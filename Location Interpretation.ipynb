{
 "cells": [
  {
   "cell_type": "code",
   "execution_count": 1,
   "metadata": {},
   "outputs": [
    {
     "name": "stderr",
     "output_type": "stream",
     "text": [
      "[nltk_data] Downloading package wordnet to /Users/aditya/nltk_data...\n",
      "[nltk_data]   Package wordnet is already up-to-date!\n",
      "[nltk_data] Downloading package punkt to /Users/aditya/nltk_data...\n",
      "[nltk_data]   Package punkt is already up-to-date!\n",
      "[nltk_data] Downloading package averaged_perceptron_tagger to\n",
      "[nltk_data]     /Users/aditya/nltk_data...\n",
      "[nltk_data]   Package averaged_perceptron_tagger is already up-to-\n",
      "[nltk_data]       date!\n"
     ]
    }
   ],
   "source": [
    "import pandas as pd\n",
    "import re\n",
    "import numpy as np\n",
    "import datetime as dt\n",
    "import matplotlib.pyplot as plt\n",
    "import seaborn as sns\n",
    "from matplotlib.pyplot import figure\n",
    "# import wordcloud\n",
    "# from sklearn.preprocessing import OneHotEncoder\n",
    "# import matplotlib.animation as animation\n",
    "# import nltk\n",
    "from sklearn.cluster import KMeans\n",
    "from myfunctions import *\n",
    "sns.set()"
   ]
  },
  {
   "cell_type": "code",
   "execution_count": 2,
   "metadata": {},
   "outputs": [],
   "source": [
    "\n",
    "datadf = pd.read_csv(r'All Data/Raw Journey Data/Until16May2020(all jsons to csv).csv')"
   ]
  },
  {
   "cell_type": "code",
   "execution_count": 3,
   "metadata": {
    "scrolled": true
   },
   "outputs": [],
   "source": [
    "datadf = datadf.set_index('id')"
   ]
  },
  {
   "cell_type": "code",
   "execution_count": 4,
   "metadata": {},
   "outputs": [
    {
     "data": {
      "text/html": [
       "<div>\n",
       "<style scoped>\n",
       "    .dataframe tbody tr th:only-of-type {\n",
       "        vertical-align: middle;\n",
       "    }\n",
       "\n",
       "    .dataframe tbody tr th {\n",
       "        vertical-align: top;\n",
       "    }\n",
       "\n",
       "    .dataframe thead th {\n",
       "        text-align: right;\n",
       "    }\n",
       "</style>\n",
       "<table border=\"1\" class=\"dataframe\">\n",
       "  <thead>\n",
       "    <tr style=\"text-align: right;\">\n",
       "      <th></th>\n",
       "      <th>no_stop</th>\n",
       "      <th>text</th>\n",
       "      <th>date_modified</th>\n",
       "      <th>date_journal</th>\n",
       "      <th>address</th>\n",
       "      <th>lat</th>\n",
       "      <th>lon</th>\n",
       "      <th>mood</th>\n",
       "      <th>timezone</th>\n",
       "      <th>favourite</th>\n",
       "      <th>weather</th>\n",
       "      <th>photos</th>\n",
       "      <th>tags</th>\n",
       "      <th>no_punc</th>\n",
       "      <th>is_personal</th>\n",
       "      <th>cleaned_text</th>\n",
       "    </tr>\n",
       "    <tr>\n",
       "      <th>id</th>\n",
       "      <th></th>\n",
       "      <th></th>\n",
       "      <th></th>\n",
       "      <th></th>\n",
       "      <th></th>\n",
       "      <th></th>\n",
       "      <th></th>\n",
       "      <th></th>\n",
       "      <th></th>\n",
       "      <th></th>\n",
       "      <th></th>\n",
       "      <th></th>\n",
       "      <th></th>\n",
       "      <th></th>\n",
       "      <th></th>\n",
       "      <th></th>\n",
       "    </tr>\n",
       "  </thead>\n",
       "  <tbody>\n",
       "    <tr>\n",
       "      <th>1439137473084-3fc756cc3f8d6404</th>\n",
       "      <td>first thing saw entered room dark curtains dra...</td>\n",
       "      <td>The first thing I saw ,when I entered her room...</td>\n",
       "      <td>2017-08-31 01:44:57</td>\n",
       "      <td>2015-08-09 11:24:33</td>\n",
       "      <td>NaN</td>\n",
       "      <td>1.7976931348623157e+308</td>\n",
       "      <td>1.7976931348623157e+308</td>\n",
       "      <td>0</td>\n",
       "      <td>NaN</td>\n",
       "      <td>False</td>\n",
       "      <td>{'id': -1, 'degree_c': 1.7976931348623157e+308...</td>\n",
       "      <td>[]</td>\n",
       "      <td>['personal', 'published']</td>\n",
       "      <td>The first thing I saw when I entered her room ...</td>\n",
       "      <td>1</td>\n",
       "      <td>The first thing I saw , when I entered her roo...</td>\n",
       "    </tr>\n",
       "    <tr>\n",
       "      <th>1439198245820-3fda14add91e3f20</th>\n",
       "      <td>Philosophy surprises hw u effortlessly make to...</td>\n",
       "      <td>Philosophy\\n\\n\\n\\n\\n\\n\\nIt surprises me..hw u ...</td>\n",
       "      <td>2017-08-22 22:08:05</td>\n",
       "      <td>2015-08-10 04:17:25</td>\n",
       "      <td>NaN</td>\n",
       "      <td>1.7976931348623157e+308</td>\n",
       "      <td>1.7976931348623157e+308</td>\n",
       "      <td>0</td>\n",
       "      <td>NaN</td>\n",
       "      <td>False</td>\n",
       "      <td>{'id': -1, 'degree_c': 1.7976931348623157e+308...</td>\n",
       "      <td>[]</td>\n",
       "      <td>['personal']</td>\n",
       "      <td>Philosophy It surprises me hw u so effortlessl...</td>\n",
       "      <td>1</td>\n",
       "      <td>Philosophy It surprises me ... hw you so effor...</td>\n",
       "    </tr>\n",
       "    <tr>\n",
       "      <th>1439198461993-3fefd6db711e0342</th>\n",
       "      <td>Write fantasies inaginary dream world stories ...</td>\n",
       "      <td>Me \\n\\n\\nWrite fantasies/inaginary dream world...</td>\n",
       "      <td>2017-10-08 12:24:49</td>\n",
       "      <td>2015-08-10 04:21:01</td>\n",
       "      <td>NaN</td>\n",
       "      <td>1.7976931348623157e+308</td>\n",
       "      <td>1.7976931348623157e+308</td>\n",
       "      <td>0</td>\n",
       "      <td>NaN</td>\n",
       "      <td>False</td>\n",
       "      <td>{'id': -1, 'degree_c': 1.7976931348623157e+308...</td>\n",
       "      <td>[]</td>\n",
       "      <td>['me']</td>\n",
       "      <td>Me Write fantasies inaginary dream world stori...</td>\n",
       "      <td>0</td>\n",
       "      <td>Me Write fantasies / inaginary dream world sto...</td>\n",
       "    </tr>\n",
       "    <tr>\n",
       "      <th>1439575035515-3feb330512548cbd</th>\n",
       "      <td>dwarfs garden garden little boy Guarded roses ...</td>\n",
       "      <td>The dwarfs garden\\n\\nHe had a garden ,that lit...</td>\n",
       "      <td>2016-04-29 05:23:44</td>\n",
       "      <td>2015-08-14 12:57:15</td>\n",
       "      <td>NaN</td>\n",
       "      <td>1.7976931348623157e+308</td>\n",
       "      <td>1.7976931348623157e+308</td>\n",
       "      <td>0</td>\n",
       "      <td>NaN</td>\n",
       "      <td>False</td>\n",
       "      <td>{'id': -1, 'degree_c': 1.7976931348623157e+308...</td>\n",
       "      <td>[]</td>\n",
       "      <td>['published']</td>\n",
       "      <td>The dwarfs garden He had a garden that little ...</td>\n",
       "      <td>0</td>\n",
       "      <td>The dwarfs garden He had a garden , that littl...</td>\n",
       "    </tr>\n",
       "  </tbody>\n",
       "</table>\n",
       "</div>"
      ],
      "text/plain": [
       "                                                                          no_stop  \\\n",
       "id                                                                                  \n",
       "1439137473084-3fc756cc3f8d6404  first thing saw entered room dark curtains dra...   \n",
       "1439198245820-3fda14add91e3f20  Philosophy surprises hw u effortlessly make to...   \n",
       "1439198461993-3fefd6db711e0342  Write fantasies inaginary dream world stories ...   \n",
       "1439575035515-3feb330512548cbd  dwarfs garden garden little boy Guarded roses ...   \n",
       "\n",
       "                                                                             text  \\\n",
       "id                                                                                  \n",
       "1439137473084-3fc756cc3f8d6404  The first thing I saw ,when I entered her room...   \n",
       "1439198245820-3fda14add91e3f20  Philosophy\\n\\n\\n\\n\\n\\n\\nIt surprises me..hw u ...   \n",
       "1439198461993-3fefd6db711e0342  Me \\n\\n\\nWrite fantasies/inaginary dream world...   \n",
       "1439575035515-3feb330512548cbd  The dwarfs garden\\n\\nHe had a garden ,that lit...   \n",
       "\n",
       "                                      date_modified         date_journal  \\\n",
       "id                                                                         \n",
       "1439137473084-3fc756cc3f8d6404  2017-08-31 01:44:57  2015-08-09 11:24:33   \n",
       "1439198245820-3fda14add91e3f20  2017-08-22 22:08:05  2015-08-10 04:17:25   \n",
       "1439198461993-3fefd6db711e0342  2017-10-08 12:24:49  2015-08-10 04:21:01   \n",
       "1439575035515-3feb330512548cbd  2016-04-29 05:23:44  2015-08-14 12:57:15   \n",
       "\n",
       "                               address                      lat  \\\n",
       "id                                                                \n",
       "1439137473084-3fc756cc3f8d6404     NaN  1.7976931348623157e+308   \n",
       "1439198245820-3fda14add91e3f20     NaN  1.7976931348623157e+308   \n",
       "1439198461993-3fefd6db711e0342     NaN  1.7976931348623157e+308   \n",
       "1439575035515-3feb330512548cbd     NaN  1.7976931348623157e+308   \n",
       "\n",
       "                                                    lon  mood timezone  \\\n",
       "id                                                                       \n",
       "1439137473084-3fc756cc3f8d6404  1.7976931348623157e+308     0      NaN   \n",
       "1439198245820-3fda14add91e3f20  1.7976931348623157e+308     0      NaN   \n",
       "1439198461993-3fefd6db711e0342  1.7976931348623157e+308     0      NaN   \n",
       "1439575035515-3feb330512548cbd  1.7976931348623157e+308     0      NaN   \n",
       "\n",
       "                                favourite  \\\n",
       "id                                          \n",
       "1439137473084-3fc756cc3f8d6404      False   \n",
       "1439198245820-3fda14add91e3f20      False   \n",
       "1439198461993-3fefd6db711e0342      False   \n",
       "1439575035515-3feb330512548cbd      False   \n",
       "\n",
       "                                                                          weather  \\\n",
       "id                                                                                  \n",
       "1439137473084-3fc756cc3f8d6404  {'id': -1, 'degree_c': 1.7976931348623157e+308...   \n",
       "1439198245820-3fda14add91e3f20  {'id': -1, 'degree_c': 1.7976931348623157e+308...   \n",
       "1439198461993-3fefd6db711e0342  {'id': -1, 'degree_c': 1.7976931348623157e+308...   \n",
       "1439575035515-3feb330512548cbd  {'id': -1, 'degree_c': 1.7976931348623157e+308...   \n",
       "\n",
       "                               photos                       tags  \\\n",
       "id                                                                 \n",
       "1439137473084-3fc756cc3f8d6404     []  ['personal', 'published']   \n",
       "1439198245820-3fda14add91e3f20     []               ['personal']   \n",
       "1439198461993-3fefd6db711e0342     []                     ['me']   \n",
       "1439575035515-3feb330512548cbd     []              ['published']   \n",
       "\n",
       "                                                                          no_punc  \\\n",
       "id                                                                                  \n",
       "1439137473084-3fc756cc3f8d6404  The first thing I saw when I entered her room ...   \n",
       "1439198245820-3fda14add91e3f20  Philosophy It surprises me hw u so effortlessl...   \n",
       "1439198461993-3fefd6db711e0342  Me Write fantasies inaginary dream world stori...   \n",
       "1439575035515-3feb330512548cbd  The dwarfs garden He had a garden that little ...   \n",
       "\n",
       "                                is_personal  \\\n",
       "id                                            \n",
       "1439137473084-3fc756cc3f8d6404            1   \n",
       "1439198245820-3fda14add91e3f20            1   \n",
       "1439198461993-3fefd6db711e0342            0   \n",
       "1439575035515-3feb330512548cbd            0   \n",
       "\n",
       "                                                                     cleaned_text  \n",
       "id                                                                                 \n",
       "1439137473084-3fc756cc3f8d6404  The first thing I saw , when I entered her roo...  \n",
       "1439198245820-3fda14add91e3f20  Philosophy It surprises me ... hw you so effor...  \n",
       "1439198461993-3fefd6db711e0342  Me Write fantasies / inaginary dream world sto...  \n",
       "1439575035515-3feb330512548cbd  The dwarfs garden He had a garden , that littl...  "
      ]
     },
     "execution_count": 4,
     "metadata": {},
     "output_type": "execute_result"
    }
   ],
   "source": [
    "datadf.head(4)"
   ]
  },
  {
   "cell_type": "code",
   "execution_count": 5,
   "metadata": {},
   "outputs": [
    {
     "name": "stderr",
     "output_type": "stream",
     "text": [
      "/usr/local/lib/python3.7/site-packages/pandas/core/generic.py:5303: SettingWithCopyWarning: \n",
      "A value is trying to be set on a copy of a slice from a DataFrame.\n",
      "Try using .loc[row_indexer,col_indexer] = value instead\n",
      "\n",
      "See the caveats in the documentation: https://pandas.pydata.org/pandas-docs/stable/user_guide/indexing.html#returning-a-view-versus-a-copy\n",
      "  self[name] = value\n"
     ]
    }
   ],
   "source": [
    "loc = datadf[['lat','lon']]\n",
    "loc.lat = loc.lat.str[:10].astype(float)\n",
    "loc.lon = loc.lon.str[:10].astype(float)"
   ]
  },
  {
   "cell_type": "code",
   "execution_count": 16,
   "metadata": {},
   "outputs": [
    {
     "data": {
      "text/html": [
       "<div>\n",
       "<style scoped>\n",
       "    .dataframe tbody tr th:only-of-type {\n",
       "        vertical-align: middle;\n",
       "    }\n",
       "\n",
       "    .dataframe tbody tr th {\n",
       "        vertical-align: top;\n",
       "    }\n",
       "\n",
       "    .dataframe thead th {\n",
       "        text-align: right;\n",
       "    }\n",
       "</style>\n",
       "<table border=\"1\" class=\"dataframe\">\n",
       "  <thead>\n",
       "    <tr style=\"text-align: right;\">\n",
       "      <th></th>\n",
       "      <th>lat</th>\n",
       "      <th>lon</th>\n",
       "    </tr>\n",
       "    <tr>\n",
       "      <th>id</th>\n",
       "      <th></th>\n",
       "      <th></th>\n",
       "    </tr>\n",
       "  </thead>\n",
       "  <tbody>\n",
       "    <tr>\n",
       "      <th>1550027414413-3f93e023e9765760</th>\n",
       "      <td>40.730479</td>\n",
       "      <td>-73.990758</td>\n",
       "    </tr>\n",
       "    <tr>\n",
       "      <th>1541027536471-3fe6ded48284853f</th>\n",
       "      <td>40.731435</td>\n",
       "      <td>-73.994182</td>\n",
       "    </tr>\n",
       "    <tr>\n",
       "      <th>1550530816969-3fec512d4b8c9568</th>\n",
       "      <td>1.797693</td>\n",
       "      <td>1.797693</td>\n",
       "    </tr>\n",
       "    <tr>\n",
       "      <th>1536543472656-3fd5005fd05db8b0</th>\n",
       "      <td>40.731446</td>\n",
       "      <td>-73.987997</td>\n",
       "    </tr>\n",
       "    <tr>\n",
       "      <th>1500295990005-3fd56ca78571a5aa</th>\n",
       "      <td>18.574954</td>\n",
       "      <td>73.893474</td>\n",
       "    </tr>\n",
       "    <tr>\n",
       "      <th>...</th>\n",
       "      <td>...</td>\n",
       "      <td>...</td>\n",
       "    </tr>\n",
       "    <tr>\n",
       "      <th>1482859698553-3fd13397ed3cb4fe</th>\n",
       "      <td>19.187236</td>\n",
       "      <td>72.834331</td>\n",
       "    </tr>\n",
       "    <tr>\n",
       "      <th>1572567831107-3feb3963dd5d7567</th>\n",
       "      <td>40.721964</td>\n",
       "      <td>-73.997304</td>\n",
       "    </tr>\n",
       "    <tr>\n",
       "      <th>1551886156643-3fddcdb6ae1bc456</th>\n",
       "      <td>40.731457</td>\n",
       "      <td>-73.988186</td>\n",
       "    </tr>\n",
       "    <tr>\n",
       "      <th>1570165300724-3fca7ffa70d4ded4</th>\n",
       "      <td>40.720802</td>\n",
       "      <td>-73.997541</td>\n",
       "    </tr>\n",
       "    <tr>\n",
       "      <th>1509029872099-3fcbf2c366fc59f0</th>\n",
       "      <td>18.575010</td>\n",
       "      <td>73.893479</td>\n",
       "    </tr>\n",
       "  </tbody>\n",
       "</table>\n",
       "<p>2000 rows × 2 columns</p>\n",
       "</div>"
      ],
      "text/plain": [
       "                                      lat        lon\n",
       "id                                                  \n",
       "1550027414413-3f93e023e9765760  40.730479 -73.990758\n",
       "1541027536471-3fe6ded48284853f  40.731435 -73.994182\n",
       "1550530816969-3fec512d4b8c9568   1.797693   1.797693\n",
       "1536543472656-3fd5005fd05db8b0  40.731446 -73.987997\n",
       "1500295990005-3fd56ca78571a5aa  18.574954  73.893474\n",
       "...                                   ...        ...\n",
       "1482859698553-3fd13397ed3cb4fe  19.187236  72.834331\n",
       "1572567831107-3feb3963dd5d7567  40.721964 -73.997304\n",
       "1551886156643-3fddcdb6ae1bc456  40.731457 -73.988186\n",
       "1570165300724-3fca7ffa70d4ded4  40.720802 -73.997541\n",
       "1509029872099-3fcbf2c366fc59f0  18.575010  73.893479\n",
       "\n",
       "[2000 rows x 2 columns]"
      ]
     },
     "execution_count": 16,
     "metadata": {},
     "output_type": "execute_result"
    }
   ],
   "source": [
    "temp = loc.sample(2000)\n",
    "temp"
   ]
  },
  {
   "cell_type": "code",
   "execution_count": 19,
   "metadata": {},
   "outputs": [
    {
     "data": {
      "image/png": "[encoded data removed]",
      "text/plain": [
       "<Figure size 2160x1080 with 1 Axes>"
      ]
     },
     "metadata": {
      "needs_background": "light"
     },
     "output_type": "display_data"
    }
   ],
   "source": [
    "# loc.plot.scatter(x = 'lat', y = 'lon', c=labels, s=50, cmap='viridis')\n",
    "# plt.scatter(centers[:, 0], centers[:, 1], c='black', s=200, alpha=0.5)\n",
    "\n",
    "plt.figure(figsize=(30,15))\n",
    "plt.scatter(x = 'lat', y = 'lon', s=30, data=loc)\n",
    "plt.xticks(rotation=90)\n",
    "plt.show()"
   ]
  },
  {
   "cell_type": "code",
   "execution_count": 18,
   "metadata": {},
   "outputs": [
    {
     "data": {
      "image/png": "[encoded data removed]",
      "text/plain": [
       "<Figure size 432x288 with 1 Axes>"
      ]
     },
     "metadata": {
      "needs_background": "light"
     },
     "output_type": "display_data"
    }
   ],
   "source": [
    "K_clusters = range(1,10)\n",
    "kmeans = [KMeans(n_clusters=i) for i in K_clusters]\n",
    "Y_axis = loc[['lat']]\n",
    "X_axis = loc[['lon']]\n",
    "score = [kmeans[i].fit(Y_axis).score(Y_axis) for i in range(len(kmeans))]\n",
    "# Visualize\n",
    "plt.plot(K_clusters, score)\n",
    "plt.xlabel('Number of Clusters')\n",
    "plt.ylabel('Score')\n",
    "plt.title('Elbow Curve')\n",
    "plt.show()"
   ]
  },
  {
   "cell_type": "code",
   "execution_count": 20,
   "metadata": {},
   "outputs": [
    {
     "name": "stderr",
     "output_type": "stream",
     "text": [
      "/usr/local/Cellar/ipython/7.8.0/libexec/vendor/lib/python3.7/site-packages/ipykernel_launcher.py:3: SettingWithCopyWarning: \n",
      "A value is trying to be set on a copy of a slice from a DataFrame.\n",
      "Try using .loc[row_indexer,col_indexer] = value instead\n",
      "\n",
      "See the caveats in the documentation: https://pandas.pydata.org/pandas-docs/stable/user_guide/indexing.html#returning-a-view-versus-a-copy\n",
      "  This is separate from the ipykernel package so we can avoid doing imports until\n"
     ]
    }
   ],
   "source": [
    "kmeans = KMeans(n_clusters = 3, init ='k-means++')\n",
    "kmeans.fit(loc[loc.columns[0:1]]) # Compute k-means clustering.\n",
    "loc['cluster_label'] = kmeans.fit_predict(loc[loc.columns[0:1]])\n",
    "centers = kmeans.cluster_centers_ # Coordinates of cluster centers.\n",
    "labels = kmeans.predict(loc[loc.columns[0:1]]) # Labels of each point"
   ]
  },
  {
   "cell_type": "code",
   "execution_count": 21,
   "metadata": {},
   "outputs": [
    {
     "data": {
      "text/html": [
       "<div>\n",
       "<style scoped>\n",
       "    .dataframe tbody tr th:only-of-type {\n",
       "        vertical-align: middle;\n",
       "    }\n",
       "\n",
       "    .dataframe tbody tr th {\n",
       "        vertical-align: top;\n",
       "    }\n",
       "\n",
       "    .dataframe thead th {\n",
       "        text-align: right;\n",
       "    }\n",
       "</style>\n",
       "<table border=\"1\" class=\"dataframe\">\n",
       "  <thead>\n",
       "    <tr style=\"text-align: right;\">\n",
       "      <th></th>\n",
       "      <th>lat</th>\n",
       "      <th>lon</th>\n",
       "      <th>cluster_label</th>\n",
       "    </tr>\n",
       "    <tr>\n",
       "      <th>id</th>\n",
       "      <th></th>\n",
       "      <th></th>\n",
       "      <th></th>\n",
       "    </tr>\n",
       "  </thead>\n",
       "  <tbody>\n",
       "    <tr>\n",
       "      <th>1439137473084-3fc756cc3f8d6404</th>\n",
       "      <td>1.797693</td>\n",
       "      <td>1.797693</td>\n",
       "      <td>2</td>\n",
       "    </tr>\n",
       "    <tr>\n",
       "      <th>1439198245820-3fda14add91e3f20</th>\n",
       "      <td>1.797693</td>\n",
       "      <td>1.797693</td>\n",
       "      <td>2</td>\n",
       "    </tr>\n",
       "    <tr>\n",
       "      <th>1439198461993-3fefd6db711e0342</th>\n",
       "      <td>1.797693</td>\n",
       "      <td>1.797693</td>\n",
       "      <td>2</td>\n",
       "    </tr>\n",
       "    <tr>\n",
       "      <th>1439575035515-3feb330512548cbd</th>\n",
       "      <td>1.797693</td>\n",
       "      <td>1.797693</td>\n",
       "      <td>2</td>\n",
       "    </tr>\n",
       "    <tr>\n",
       "      <th>1440393646546-3fdb2bc02b9f8020</th>\n",
       "      <td>1.797693</td>\n",
       "      <td>1.797693</td>\n",
       "      <td>2</td>\n",
       "    </tr>\n",
       "    <tr>\n",
       "      <th>...</th>\n",
       "      <td>...</td>\n",
       "      <td>...</td>\n",
       "      <td>...</td>\n",
       "    </tr>\n",
       "    <tr>\n",
       "      <th>1572234096800-3fe09f3bcb856ceb</th>\n",
       "      <td>40.720720</td>\n",
       "      <td>-73.997461</td>\n",
       "      <td>1</td>\n",
       "    </tr>\n",
       "    <tr>\n",
       "      <th>1572394588516-3fe449570c8486e7</th>\n",
       "      <td>40.729790</td>\n",
       "      <td>-73.991662</td>\n",
       "      <td>1</td>\n",
       "    </tr>\n",
       "    <tr>\n",
       "      <th>1573136070396-3feded4b7c9ee046</th>\n",
       "      <td>40.728132</td>\n",
       "      <td>-74.000816</td>\n",
       "      <td>1</td>\n",
       "    </tr>\n",
       "    <tr>\n",
       "      <th>1583630207712-3fddf8c02150a606</th>\n",
       "      <td>40.720734</td>\n",
       "      <td>-73.997321</td>\n",
       "      <td>1</td>\n",
       "    </tr>\n",
       "    <tr>\n",
       "      <th>1585757882014-3feb8449a0aa3778</th>\n",
       "      <td>32.970735</td>\n",
       "      <td>-96.980420</td>\n",
       "      <td>1</td>\n",
       "    </tr>\n",
       "  </tbody>\n",
       "</table>\n",
       "<p>2589 rows × 3 columns</p>\n",
       "</div>"
      ],
      "text/plain": [
       "                                      lat        lon  cluster_label\n",
       "id                                                                 \n",
       "1439137473084-3fc756cc3f8d6404   1.797693   1.797693              2\n",
       "1439198245820-3fda14add91e3f20   1.797693   1.797693              2\n",
       "1439198461993-3fefd6db711e0342   1.797693   1.797693              2\n",
       "1439575035515-3feb330512548cbd   1.797693   1.797693              2\n",
       "1440393646546-3fdb2bc02b9f8020   1.797693   1.797693              2\n",
       "...                                   ...        ...            ...\n",
       "1572234096800-3fe09f3bcb856ceb  40.720720 -73.997461              1\n",
       "1572394588516-3fe449570c8486e7  40.729790 -73.991662              1\n",
       "1573136070396-3feded4b7c9ee046  40.728132 -74.000816              1\n",
       "1583630207712-3fddf8c02150a606  40.720734 -73.997321              1\n",
       "1585757882014-3feb8449a0aa3778  32.970735 -96.980420              1\n",
       "\n",
       "[2589 rows x 3 columns]"
      ]
     },
     "execution_count": 21,
     "metadata": {},
     "output_type": "execute_result"
    }
   ],
   "source": [
    "loc"
   ]
  },
  {
   "cell_type": "code",
   "execution_count": 23,
   "metadata": {},
   "outputs": [
    {
     "data": {
      "text/plain": [
       "array([[18.90745455],\n",
       "       [39.76562681],\n",
       "       [ 1.60998753]])"
      ]
     },
     "execution_count": 23,
     "metadata": {},
     "output_type": "execute_result"
    }
   ],
   "source": [
    "centers"
   ]
  },
  {
   "cell_type": "code",
   "execution_count": 24,
   "metadata": {},
   "outputs": [
    {
     "data": {
      "text/plain": [
       "<matplotlib.axes._subplots.AxesSubplot at 0x124672e50>"
      ]
     },
     "execution_count": 24,
     "metadata": {},
     "output_type": "execute_result"
    },
    {
     "data": {
      "image/png": "[encoded data removed]",
      "text/plain": [
       "<Figure size 432x288 with 2 Axes>"
      ]
     },
     "metadata": {
      "needs_background": "light"
     },
     "output_type": "display_data"
    }
   ],
   "source": [
    "loc.plot.scatter(x = 'lat', y = 'lon', c=labels, s=50, cmap='viridis')\n",
    "# plt.scatter(centers[:, 0], centers[:, 1], c='black', s=200, alpha=0.5)"
   ]
  },
  {
   "cell_type": "code",
   "execution_count": null,
   "metadata": {},
   "outputs": [],
   "source": []
  }
 ],
 "metadata": {
  "kernelspec": {
   "display_name": "Python 3",
   "language": "python",
   "name": "python3"
  },
  "language_info": {
   "codemirror_mode": {
    "name": "ipython",
    "version": 3
   },
   "file_extension": ".py",
   "mimetype": "text/x-python",
   "name": "python",
   "nbconvert_exporter": "python",
   "pygments_lexer": "ipython3",
   "version": "3.7.4"
  },
  "nteract": {
   "version": "0.23.1"
  }
 },
 "nbformat": 4,
 "nbformat_minor": 4
}
