{
 "cells": [
  {
   "cell_type": "code",
   "execution_count": null,
   "metadata": {},
   "outputs": [],
   "source": [
    "import pandas as pd\n",
    "from zipfile import ZipFile\n",
    "import os\n",
    "import re\n",
    "import json\n",
    "import pandas as pd\n",
    "import numpy as np\n",
    "import datetime as dt\n",
    "import matplotlib.pyplot as plt\n",
    "import seaborn as sns\n",
    "sns.set()"
   ]
  },
  {
   "cell_type": "code",
   "execution_count": null,
   "metadata": {},
   "outputs": [],
   "source": [
    "words = ['word','word','word','word','word','word'] # enter your words to search here"
   ]
  },
  {
   "cell_type": "code",
   "execution_count": null,
   "metadata": {},
   "outputs": [],
   "source": [
    "directory = 'All Data/Raw Journey Data/Until16May2020(no HQ media)/' #change directory here after unzipping journey data\n",
    "\n",
    "import os\n",
    "rawdata = {}\n",
    "for filename in os.listdir(directory):\n",
    "    if filename.endswith(\".json\"):\n",
    "        with open(f'{directory}{filename}', 'r') as f:\n",
    "            readjson = json.load(f)\n",
    "            rawdata[readjson['id']]=readjson"
   ]
  },
  {
   "cell_type": "code",
   "execution_count": null,
   "metadata": {},
   "outputs": [],
   "source": [
    "len(rawdata)"
   ]
  },
  {
   "cell_type": "code",
   "execution_count": null,
   "metadata": {},
   "outputs": [],
   "source": [
    "datadf = pd.DataFrame(rawdata).transpose()"
   ]
  },
  {
   "cell_type": "code",
   "execution_count": null,
   "metadata": {},
   "outputs": [],
   "source": [
    "datadf = datadf.drop(columns={'label','music_artist','music_title','preview_text','sentiment','type','folder'})\n",
    "datadf.set_index('id', inplace=True)"
   ]
  },
  {
   "cell_type": "code",
   "execution_count": null,
   "metadata": {},
   "outputs": [],
   "source": [
    "for i in range(len(datadf['date_journal'])):\n",
    "    datadf['date_journal'][i] = dt.datetime.fromtimestamp((datadf['date_journal'][i])/1000).strftime(\"%Y-%m-%d %H:%M:%S\")\n",
    "    datadf['date_modified'][i] = dt.datetime.fromtimestamp((datadf['date_modified'][i])/1000).strftime(\"%Y-%m-%d %H:%M:%S\")"
   ]
  },
  {
   "cell_type": "code",
   "execution_count": null,
   "metadata": {},
   "outputs": [],
   "source": [
    "datadf['no_punc'] = datadf['text']\n",
    "for i in range(len(datadf['text'])):\n",
    "    regex= '<.*?>'\n",
    "    datadf['no_punc'][i] = re.sub(regex, '', (datadf['text'][i]))\n",
    "    punct_re='[^\\w\\s]'\n",
    "    datadf['no_punc'][i] = re.sub(punct_re, '', (datadf['no_punc'][i]))\n",
    "    newline_re='\\\\n'\n",
    "    datadf['no_punc'][i] = re.sub(newline_re, ' ', (datadf['no_punc'][i]))\n",
    "    newline_re2='nbsp'\n",
    "    datadf['no_punc'][i] = re.sub(newline_re2, ' ', (datadf['no_punc'][i]))\n",
    "    datadf['no_punc'][i] = re.sub('\\s+', ' ', datadf['no_punc'][i]).strip()"
   ]
  },
  {
   "cell_type": "code",
   "execution_count": null,
   "metadata": {},
   "outputs": [],
   "source": [
    "datadf = datadf.sort_values(by='date_journal')"
   ]
  },
  {
   "cell_type": "code",
   "execution_count": null,
   "metadata": {},
   "outputs": [],
   "source": [
    "datadf.head()"
   ]
  },
  {
   "cell_type": "code",
   "execution_count": null,
   "metadata": {},
   "outputs": [],
   "source": [
    "datadf.to_csv(r'RawData.csv')"
   ]
  },
  {
   "cell_type": "code",
   "execution_count": null,
   "metadata": {},
   "outputs": [],
   "source": [
    "tidy_format = datadf.no_punc.str.split(expand=True).stack().to_frame().reset_index(level=1)\n",
    "tidy_format['num']=tidy_format['level_1']\n",
    "tidy_format['word']=tidy_format[0]\n",
    "tidy_format = tidy_format.drop(columns=[0,'level_1'])\n",
    "tidy_format['lower'] =tidy_format['word'].str.lower()\n",
    "tidy_format.to_csv('TidyFormat.csv')"
   ]
  },
  {
   "cell_type": "code",
   "execution_count": null,
   "metadata": {},
   "outputs": [],
   "source": [
    "tidy_format"
   ]
  },
  {
   "cell_type": "code",
   "execution_count": null,
   "metadata": {},
   "outputs": [],
   "source": [
    "word_counts = tidy_format['lower'].value_counts().to_frame().rename(columns={'lower':'count'})\n",
    "word_counts.to_csv(r'WordCounts.csv')\n",
    "word_counts"
   ]
  },
  {
   "cell_type": "code",
   "execution_count": null,
   "metadata": {},
   "outputs": [],
   "source": [
    "timedata = pd.DataFrame(datadf[['date_journal']])\n",
    "timedata['year'] = pd.DatetimeIndex(timedata['date_journal']).year\n",
    "timedata['month'] = pd.DatetimeIndex(timedata['date_journal']).month\n",
    "timedata['day'] = pd.DatetimeIndex(timedata['date_journal']).day\n",
    "timedata['hour'] = pd.DatetimeIndex(timedata['date_journal']).hour\n",
    "timedata['minute'] = pd.DatetimeIndex(timedata['date_journal']).minute\n",
    "timedata['dayofweek'] = pd.DatetimeIndex(timedata['date_journal']).dayofweek\n",
    "timedata = timedata.sort_values(by='date_journal')\n",
    "timedata['day_num'] = (((pd.DataFrame(pd.DatetimeIndex(timedata.date_journal).date - \n",
    "                                      dt.datetime.strptime(timedata.date_journal[0], \n",
    "                                                           '%Y-%m-%d %H:%M:%S').date())[0])/np.timedelta64(1, 'D')).astype(int)).values\n",
    "timedata['month_num'] = ((timedata['year'] - timedata['year'][0]) *12 ) + timedata['month'] - timedata['month'][0]\n",
    "mapping_names = {1:'jan',2:'feb',3:'mar',4:'april',5:'may',6:'june',7:'july',8:'aug',9:'sept',10:'oct',11:'nov',12:'dec'}\n",
    "timedata['month_name'] = timedata.date_journal.apply(lambda i:dt.datetime.strptime(i,'%Y-%m-%d %H:%M:%S').month).map(mapping_names)\n",
    "timedata['year_month'] = timedata['year'].astype(str) + \" \" +timedata[\"month_name\"]\n",
    "timedata['minute_of_day'] = timedata['hour']*60 + timedata['minute']\n",
    "timedata.to_csv('TimeData.csv')"
   ]
  },
  {
   "cell_type": "code",
   "execution_count": null,
   "metadata": {},
   "outputs": [],
   "source": [
    "timedata.head()"
   ]
  },
  {
   "cell_type": "code",
   "execution_count": null,
   "metadata": {},
   "outputs": [],
   "source": [
    "monthly = timedata.groupby('month').count()\n",
    "plt.plot(monthly.index,monthly['year'])"
   ]
  },
  {
   "cell_type": "code",
   "execution_count": null,
   "metadata": {},
   "outputs": [],
   "source": [
    "daily = timedata.groupby('day').count()\n",
    "plt.plot(daily.index,daily['year'])"
   ]
  },
  {
   "cell_type": "code",
   "execution_count": null,
   "metadata": {},
   "outputs": [],
   "source": [
    "week = timedata.groupby('dayofweek').count()\n",
    "plt.plot(week.index,week['year'])"
   ]
  },
  {
   "cell_type": "code",
   "execution_count": null,
   "metadata": {},
   "outputs": [],
   "source": [
    "hourly = timedata.groupby('hour').count()\n",
    "plt.plot(hourly.index,hourly['year'])"
   ]
  },
  {
   "cell_type": "code",
   "execution_count": null,
   "metadata": {},
   "outputs": [],
   "source": [
    "lex = pd.read_csv('All Data/SentimentAnalysisVaderLexicon.csv')\n",
    "lex = lex.set_index('token')\n",
    "\n",
    "polarities = tidy_format.merge(lex, left_on='word', right_on='token', copy=False, right_index=True)\n",
    "polarities = polarities.groupby(polarities.index).sum().drop(columns='num')\n",
    "pol_text = polarities.merge(datadf['no_punc'], left_on=polarities.index, right_on=datadf['no_punc'].index).rename(columns={'key_0':'id'})\n",
    "pol_text = pol_text.merge(timedata['month'], left_on='id', right_on=timedata['month'].index)\n",
    "pol_text.to_csv('Polarized Text.csv')\n",
    "monthly_sent = pol_text.groupby('month').agg({'polarity':'sum'})\n",
    "plt.plot(monthly_sent)"
   ]
  },
  {
   "cell_type": "code",
   "execution_count": null,
   "metadata": {},
   "outputs": [],
   "source": [
    "monthly_sent_mean = pol_text.groupby('month').agg({'polarity':'mean'})\n",
    "plt.plot(monthly_sent_mean)"
   ]
  },
  {
   "cell_type": "code",
   "execution_count": null,
   "metadata": {},
   "outputs": [],
   "source": [
    "tidy_format['mentioned(entry)'] = tidy_format['lower'].isin(words).astype(int)\n",
    "words_found = tidy_format.merge(timedata, on='id', how='left')[['mentioned(entry)','day_num','month_num', 'year_month']]\n",
    "words_found_days = words_found.groupby('day_num').agg(func={'mentioned(entry)':'sum', 'month_num':'first', 'year_month':'first'})\n",
    "words_found_days['mentioned(day)'] = (words_found_days['mentioned(entry)']!=0).astype(int)\n",
    "words_found_days['avg_mentions(month)'] = words_found_days['mentioned(day)']\n",
    "plt.plot(words_found_days.index, words_found_days['mentioned(day)'])"
   ]
  },
  {
   "cell_type": "code",
   "execution_count": null,
   "metadata": {},
   "outputs": [],
   "source": [
    "words_found_months = words_found_days.groupby('year_month').agg(func={'mentioned(entry)':'sum', 'month_num':'first', 'year_month':'first', 'mentioned(day)':'sum', 'avg_mentions(month)':'mean'})\n",
    "words_found_months = words_found_months.sort_values(by='month_num', ascending=True)\n",
    "\n",
    "fig, ax = plt.subplots(figsize = (150,40))\n",
    "ax.plot(words_found_months['mentioned(day)'])\n",
    "plt.yticks(fontsize=70)\n",
    "plt.xticks(fontsize=70, rotation=90)\n",
    "plt.locator_params(axis='x', nbins=20)\n",
    "plt.title(label='Number of days in a month the words were mentioned', fontsize=100)"
   ]
  },
  {
   "cell_type": "code",
   "execution_count": null,
   "metadata": {},
   "outputs": [],
   "source": [
    "fig, ax = plt.subplots(figsize = (150,40))\n",
    "ax.plot(words_found_months['avg_mentions(month)'])\n",
    "plt.xticks(fontsize=70, rotation=90)\n",
    "plt.yticks(fontsize=70)\n",
    "plt.locator_params(axis='x', nbins=20)\n",
    "plt.title(label='Proportion of days in a month when the words were mentioned', fontsize=100)"
   ]
  },
  {
   "cell_type": "code",
   "execution_count": null,
   "metadata": {},
   "outputs": [],
   "source": [
    "def found (text, words):\n",
    "    hits = 0\n",
    "    for word in words:\n",
    "        if word in str(text):\n",
    "            hits = hits+1\n",
    "    return(hits)\n",
    "\n",
    "datadf['hits'] = datadf['no_punc'].apply(lambda x: found(x,words))\n",
    "\n",
    "datadf['found'] = (datadf['hits']>0).astype(int)\n",
    "\n",
    "datadf = datadf.merge(timedata, on='id', how='inner')[['no_punc','day_num','month_num','year_month','minute_of_day','found','hour']]\n",
    "\n",
    "plt.figure(figsize=(100,10))\n",
    "plt.xticks(fontsize=70, rotation=90)\n",
    "plt.yticks(fontsize=70)\n",
    "sns.distplot(datadf['minute_of_day'].values, rug=True, bins=24)"
   ]
  },
  {
   "cell_type": "code",
   "execution_count": null,
   "metadata": {},
   "outputs": [],
   "source": [
    "plt.figure(figsize=(100,10))\n",
    "plt.xticks(fontsize=70, rotation=0)\n",
    "plt.yticks(fontsize=30)\n",
    "plt.xlabel('Hour of the Day', fontsize=70)\n",
    "sns.distplot(datadf['hour'], color='blue', label='Entries Without word',hist=False)\n",
    "sns.distplot( datadf[datadf['found']==1]['hour'].values, color=\"red\", label=\"Entries With Word\",hist=False)\n",
    "plt.legend(fontsize='x-large', title_fontsize='70')"
   ]
  }
 ],
 "metadata": {
  "kernelspec": {
   "display_name": "Python 3",
   "language": "python",
   "name": "python3"
  },
  "language_info": {
   "codemirror_mode": {
    "name": "ipython",
    "version": 3
   },
   "file_extension": ".py",
   "mimetype": "text/x-python",
   "name": "python",
   "nbconvert_exporter": "python",
   "pygments_lexer": "ipython3",
   "version": "3.7.4"
  }
 },
 "nbformat": 4,
 "nbformat_minor": 4
}
