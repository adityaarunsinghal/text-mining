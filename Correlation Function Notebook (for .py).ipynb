{
 "cells": [
  {
   "cell_type": "code",
   "execution_count": 57,
   "metadata": {},
   "outputs": [],
   "source": [
    "import numpy as np\n",
    "import pandas as pd\n",
    "import seaborn as sns\n",
    "import matplotlib.pyplot as plt\n",
    "import itertools\n",
    "from scipy import stats as ss"
   ]
  },
  {
   "cell_type": "code",
   "execution_count": 59,
   "metadata": {},
   "outputs": [],
   "source": [
    "def cramers(x,y):\n",
    "    \"\"\"\n",
    "    Function to calculate Cramers Correlation\n",
    "    \n",
    "    Input: column_1, column_2\n",
    "    Output: correlation r (float)\n",
    "    \"\"\"\n",
    "    confusion_matrix = pd.crosstab(x,y)\n",
    "    chi2 = ss.chi2_contingency(confusion_matrix)[0]\n",
    "    n = confusion_matrix.sum().sum()\n",
    "    phi2 = chi2/n\n",
    "    r,k = confusion_matrix.shape\n",
    "    phi2corr = max(0, phi2-((k-1)*(r-1))/(n-1))\n",
    "    rcorr = r-((r-1)**2)/(n-1)\n",
    "    kcorr = k-((k-1)**2)/(n-1)\n",
    "    corr = np.sqrt(phi2corr/min((kcorr-1),(rcorr-1)))\n",
    "        \n",
    "    return corr"
   ]
  },
  {
   "cell_type": "code",
   "execution_count": 60,
   "metadata": {},
   "outputs": [],
   "source": [
    "def correlation(x, y, method='pearson'): #option for type of correlation added \n",
    "    \n",
    "    \"\"\"\n",
    "    Function to calculate correlation in given method\n",
    "    \n",
    "    Input: column_1, column_2, method = ['pearson','spearman','kendall','cramers']\n",
    "    Output: correlation r (float)\n",
    "    \"\"\"\n",
    "    try:\n",
    "        if (method == 'pearson'): \n",
    "            corr, _ = ss.pearsonr(x,y)\n",
    "        elif (method == 'spearman'): \n",
    "            corr, _ = ss.spearmanr(x,y)\n",
    "        elif (method == 'kendall'): \n",
    "            corr, _ = ss.kendalltau(x,y)\n",
    "        elif (method == 'cramers'): \n",
    "            corr = cramers(x,y)\n",
    "    except:\n",
    "        corr = cramers(x,y)\n",
    "        \n",
    "    return corr"
   ]
  },
  {
   "cell_type": "code",
   "execution_count": 67,
   "metadata": {},
   "outputs": [],
   "source": [
    "def make_corr_dict(df, method='pearson'):\n",
    "    \n",
    "    \"\"\"\n",
    "    Function to make dictionaries of all column combinations and correlations\n",
    "    \n",
    "    Input: dataframe, method = ['pearson','spearman','kendall','cramers']\n",
    "    Output: (correlation dictionary : singles, correlation dictionary : mirrored), Prints (Unused columns number and names)\n",
    "    \"\"\"\n",
    "    \n",
    "    variables = dict(df.dtypes)\n",
    "    for_corr = df[list(col for col in df.columns if (len(set(df[col]))!=len(df[col])) & df[col].notna().any())].copy()\n",
    "    for_corr.fillna(0, inplace = True)\n",
    "    col_combinations = list(itertools.combinations(for_corr.columns,2))\n",
    "    corr_dict = dict(((x,y),correlation(for_corr[x],for_corr[y], method)) for x,y in col_combinations)\n",
    "    mirrors = dict(((b,a),(c)) for ((a,b),(c)) in corr_dict.items())\n",
    "    corr_dict_mirror = corr_dict.copy()\n",
    "    corr_dict_mirror.update(mirrors)\n",
    "    \n",
    "    print(\"Used Columns : \", len(for_corr.columns))\n",
    "    print(\"Unused Columns : \", len(df.columns)-len(for_corr.columns), \"\\nUnused Col Names: \", np.setdiff1d(df.columns,for_corr.columns))\n",
    "    \n",
    "    return(corr_dict, corr_dict_mirror)"
   ]
  },
  {
   "cell_type": "code",
   "execution_count": 62,
   "metadata": {},
   "outputs": [],
   "source": [
    "def corr_table(corr_dict_mirror):\n",
    "    \n",
    "    \"\"\"\n",
    "    Function to visualize all correlations\n",
    "    \n",
    "    Input: mirrored dictionary of correlations\n",
    "    Output: Prints (heatmap)\n",
    "    \"\"\"\n",
    "    \n",
    "    corr_table = pd.DataFrame(corr_dict_mirror, index=[0]).T.reset_index(level=[0,1]).pivot(index='level_0', columns='level_1')\n",
    "    corr_table.columns = corr_table.columns.droplevel(0)\n",
    "\n",
    "    plt.figure(figsize=(10,10))\n",
    "    sns.heatmap(corr_table)"
   ]
  },
  {
   "cell_type": "code",
   "execution_count": 63,
   "metadata": {},
   "outputs": [],
   "source": [
    "def significance(corr_dict, min_value, max_value):   \n",
    "    \n",
    "    \"\"\"\n",
    "    Function to print all significant correlations between columns\n",
    "    \n",
    "    Input: Dictionary of Correlations: Singles, minimum value of correlational significance, maximum value of correlational significance\n",
    "    Output: List of all significant column combinations\n",
    "    \"\"\"\n",
    "    \n",
    "    large_corr = pd.DataFrame(range(0,len(corr_dict)),corr_dict).reset_index(level=[0,1])\n",
    "    large_corr = large_corr[(large_corr[0]>max_value)| (large_corr[0]<min_value)]\n",
    "    print(large_corr.to_string(), \"\\n\\n\")"
   ]
  }
 ],
 "metadata": {
  "kernelspec": {
   "display_name": "Python 3",
   "language": "python",
   "name": "python3"
  },
  "language_info": {
   "codemirror_mode": {
    "name": "ipython",
    "version": 3
   },
   "file_extension": ".py",
   "mimetype": "text/x-python",
   "name": "python",
   "nbconvert_exporter": "python",
   "pygments_lexer": "ipython3",
   "version": "3.7.4"
  }
 },
 "nbformat": 4,
 "nbformat_minor": 2
}
