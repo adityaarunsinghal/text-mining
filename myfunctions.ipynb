{
 "cells": [
  {
   "cell_type": "code",
   "execution_count": 1,
   "metadata": {},
   "outputs": [
    {
     "name": "stderr",
     "output_type": "stream",
     "text": [
      "[nltk_data] Downloading package wordnet to /Users/aditya/nltk_data...\n",
      "[nltk_data]   Package wordnet is already up-to-date!\n",
      "[nltk_data] Downloading package punkt to /Users/aditya/nltk_data...\n",
      "[nltk_data]   Package punkt is already up-to-date!\n",
      "[nltk_data] Downloading package averaged_perceptron_tagger to\n",
      "[nltk_data]     /Users/aditya/nltk_data...\n",
      "[nltk_data]   Package averaged_perceptron_tagger is already up-to-\n",
      "[nltk_data]       date!\n"
     ]
    }
   ],
   "source": [
    "import pandas as pd\n",
    "from zipfile import ZipFile\n",
    "import os\n",
    "import re\n",
    "import json\n",
    "import pandas as pd\n",
    "import numpy as np\n",
    "import datetime as dt\n",
    "import matplotlib.pyplot as plt\n",
    "import seaborn as sns\n",
    "import wordcloud\n",
    "from sklearn.preprocessing import OneHotEncoder\n",
    "import matplotlib.animation as animation\n",
    "import nltk\n",
    "from nltk.corpus import wordnet\n",
    "nltk.download('wordnet')\n",
    "nltk.download('punkt')\n",
    "nltk.download('averaged_perceptron_tagger')\n",
    "sns.set()"
   ]
  },
  {
   "cell_type": "code",
   "execution_count": 2,
   "metadata": {},
   "outputs": [],
   "source": [
    "datadf = pd.read_csv(r'All Data/Raw Journey Data/Until16May2020(all jsons to csv).csv')\n",
    "datadf = datadf.set_index('id')"
   ]
  },
  {
   "cell_type": "code",
   "execution_count": 3,
   "metadata": {},
   "outputs": [],
   "source": [
    "test = \"Brigadier Suraj singh\\n\\nMy name is brigadier suraj singh. Presiding officer of this general court martial! Have you ever confronted death ? (takes a pull at his smoke pipe)\\nI guess not! I HAVE faced death a lot of times..\\nThere in the battlefield..and here in the rooms of court martial too.\\nThose few seconds when you stand in front of the devil himself..and he sets your blood on fireee and then turns it as cold as ice! (gives a haughty laugh)\\nYour heart beats like a drum(strikes his chest in lubb dub sound) while your limbs go numb.\\nYou can see this fear and agony in the eyes of the victim..\\nBut you can also see it in the eyes of the killer.\\nWhen the soldier raises his sword and brings it down on the enemys throat...\\nYou'll can never have the thrill of such near death experiences!\\nThis warfare has been flowing in the veins of my family since ages. All my forefathers have been warriors. \\nI've heard their stories from my grandmother. And those stories are now a part of by subconscious.\\nI dream of my ancestors carrying blazing swords in  their hands and riding dark horses leading great armies to war.\\n\\n The riders of death !! \\n\\nMaybe those stories were the reason i had this affinity towards the battlefield.\\nThey used to call me GRENADE SINGH! i used to carry a garland of grenades round my neck and plucked those deathly devices and hurled them at masses of the nemesis.\\nOhhhhhhh the fear in their eyes.. It makes me drunk! It is such a heavenly pleasure to send someone to hell. \\nBut yes..there was a time..just once .when i was at the mercy of someone else. Once!! When my arms refused to lift my saber. Once! When i felt my legs quivering under the weight of someone elses sword.\\nAt that moment all the stories my grandmother told me fell false. Just that once. It was my father.\\nI have been finding him ever since trying to avenge that humiliation. That experience was something you wouldnt like to have . You common folks. Typical coca cola products.\\nAnyways (gives a disgusted look) so let the court martial advance! \\n\\n\\nBrigadier Suraj singh\\n\\nMera naam brigadier suraj singh hai... Presiding officer of this general training program! \\nDo you know what fear is? Saccha darr kya hota hai? Darr ek dhadakte angaare ke tarah hota hai jo uske saamne aane waali harr cheez ko jala deta hai..\\nHave you ever confronted death ?\\nI guess not! I HAVE faced death a lot of times..\\nThere on the battlefield..and in the rooms of court martial as well..\\nThose few seconds when you stand in front of the devil himself , wo chand pal...when he sets your blood on fireee and then turns it as cold as ice! \\n\\nYour heart beats like a drum while your limbs go numb.\\nYou can see this fear and agony in the eyes of the victim..\\nBut you can also see it in the eyes of the killer.\\nWhen the soldier raises his sword and brings it down on the enemys throat...\\nAaaaahchick..\\nAap log abhi naye ho..you all are still Typical coca cola products. \\n\\nMy dear friends.. Just like everyone else.. I have had a fear that keeps eating into my consciousness. \\nThe fear of rejection!! Being a dramatist.. Just like every other artist.. I think agar logo ko pasand nahi aaya toh kya hoga? But now i have decided to let it rip. I will stand there-look it in its eyes and reject this fear of rejection. \\n\\n\\nAaj se humhaara safar shuru hoga.. \\nAre u ready? Am i going to hear you roarrr?? \\n so let the training begin!! \""
   ]
  },
  {
   "cell_type": "code",
   "execution_count": 4,
   "metadata": {
    "scrolled": true
   },
   "outputs": [
    {
     "data": {
      "text/plain": [
       "\"Brigadier Suraj singh\\n\\nMy name is brigadier suraj singh. Presiding officer of this general court martial! Have you ever confronted death ? (takes a pull at his smoke pipe)\\nI guess not! I HAVE faced death a lot of times..\\nThere in the battlefield..and here in the rooms of court martial too.\\nThose few seconds when you stand in front of the devil himself..and he sets your blood on fireee and then turns it as cold as ice! (gives a haughty laugh)\\nYour heart beats like a drum(strikes his chest in lubb dub sound) while your limbs go numb.\\nYou can see this fear and agony in the eyes of the victim..\\nBut you can also see it in the eyes of the killer.\\nWhen the soldier raises his sword and brings it down on the enemys throat...\\nYou'll can never have the thrill of such near death experiences!\\nThis warfare has been flowing in the veins of my family since ages. All my forefathers have been warriors. \\nI've heard their stories from my grandmother. And those stories are now a part of by subconscious.\\nI dream of my ancestors carrying blazing swords in  their hands and riding dark horses leading great armies to war.\\n\\n The riders of death !! \\n\\nMaybe those stories were the reason i had this affinity towards the battlefield.\\nThey used to call me GRENADE SINGH! i used to carry a garland of grenades round my neck and plucked those deathly devices and hurled them at masses of the nemesis.\\nOhhhhhhh the fear in their eyes.. It makes me drunk! It is such a heavenly pleasure to send someone to hell. \\nBut yes..there was a time..just once .when i was at the mercy of someone else. Once!! When my arms refused to lift my saber. Once! When i felt my legs quivering under the weight of someone elses sword.\\nAt that moment all the stories my grandmother told me fell false. Just that once. It was my father.\\nI have been finding him ever since trying to avenge that humiliation. That experience was something you wouldnt like to have . You common folks. Typical coca cola products.\\nAnyways (gives a disgusted look) so let the court martial advance! \\n\\n\\nBrigadier Suraj singh\\n\\nMera naam brigadier suraj singh hai... Presiding officer of this general training program! \\nDo you know what fear is? Saccha darr kya hota hai? Darr ek dhadakte angaare ke tarah hota hai jo uske saamne aane waali harr cheez ko jala deta hai..\\nHave you ever confronted death ?\\nI guess not! I HAVE faced death a lot of times..\\nThere on the battlefield..and in the rooms of court martial as well..\\nThose few seconds when you stand in front of the devil himself , wo chand pal...when he sets your blood on fireee and then turns it as cold as ice! \\n\\nYour heart beats like a drum while your limbs go numb.\\nYou can see this fear and agony in the eyes of the victim..\\nBut you can also see it in the eyes of the killer.\\nWhen the soldier raises his sword and brings it down on the enemys throat...\\nAaaaahchick..\\nAap log abhi naye ho..you all are still Typical coca cola products. \\n\\nMy dear friends.. Just like everyone else.. I have had a fear that keeps eating into my consciousness. \\nThe fear of rejection!! Being a dramatist.. Just like every other artist.. I think agar logo ko pasand nahi aaya toh kya hoga? But now i have decided to let it rip. I will stand there-look it in its eyes and reject this fear of rejection. \\n\\n\\nAaj se humhaara safar shuru hoga.. \\nAre u ready? Am i going to hear you roarrr?? \\n so let the training begin!! \""
      ]
     },
     "execution_count": 4,
     "metadata": {},
     "output_type": "execute_result"
    }
   ],
   "source": [
    "test"
   ]
  },
  {
   "cell_type": "code",
   "execution_count": 5,
   "metadata": {},
   "outputs": [],
   "source": [
    "def no_punc (text):\n",
    "    text = re.sub('<.*?>', '', text)\n",
    "    text = re.sub('[^\\w\\s]', '', text)\n",
    "    text = re.sub('\\\\n', '', text)\n",
    "    text = re.sub('nbsp', '', text)\n",
    "    text = re.sub('\\s+', ' ', text).strip()\n",
    "    return (text)"
   ]
  },
  {
   "cell_type": "code",
   "execution_count": 6,
   "metadata": {},
   "outputs": [],
   "source": [
    "stopwords = ['i', 'me', 'my', 'myself', 'we', 'our', 'ours', 'ourselves', 'you', \"you're\", \"you've\", \"you'll\", \"you'd\", 'your', 'yours', 'yourself', 'yourselves', 'he', 'him', 'his', 'himself', 'she', \"she's\", 'her', 'hers', 'herself', 'it', \"it's\", 'its', 'itself', 'they', 'them', 'their', 'theirs', 'themselves', 'what', 'which', 'who', 'whom', 'this', 'that', \"that'll\", 'these', 'those', 'am', 'is', 'are', 'was', 'were', 'be', 'been', 'being', 'have', 'has', 'had', 'having', 'do', 'does', 'did', 'doing', 'a', 'an', 'the', 'and', 'but', 'if', 'or', 'because', 'as', 'until', 'while', 'of', 'at', 'by', 'for', 'with', 'about', 'against', 'between', 'into', 'through', 'during', 'before', 'after', 'above', 'below', 'to', 'from', 'up', 'down', 'in', 'out', 'on', 'off', 'over', 'under', 'again', 'further', 'then', 'once', 'here', 'there', 'when', 'where', 'why', 'how', 'all', 'any', 'both', 'each', 'few', 'more', 'most', 'other', 'some', 'such', 'no', 'nor', 'not', 'only', 'own', 'same', 'so', 'than', 'too', 'very', 's', 't', 'can', 'will', 'just', 'don', \"don't\", 'should', \"should've\", 'now', 'd', 'll', 'm', 'o', 're', 've', 'y', 'ain', 'aren', \"aren't\", 'couldn', \"couldn't\", 'didn', \"didn't\", 'doesn', \"doesn't\", 'hadn', \"hadn't\", 'hasn', \"hasn't\", 'haven', \"haven't\", 'isn', \"isn't\", 'ma', 'mightn', \"mightn't\", 'mustn', \"mustn't\", 'needn', \"needn't\", 'shan', \"shan't\", 'shouldn', \"shouldn't\", 'wasn', \"wasn't\", 'weren', \"weren't\", 'won', \"won't\", 'wouldn', \"wouldn't\"]"
   ]
  },
  {
   "cell_type": "code",
   "execution_count": 7,
   "metadata": {},
   "outputs": [],
   "source": [
    "personal_stopwords = [\"i've\", \"i'm\",\"i'll\", \"like\", \"i'd\", \"he's\", \"she's\", \"he'd\", \"she'd\"]\n",
    "\n",
    "stopwords.extend(personal_stopwords)"
   ]
  },
  {
   "cell_type": "code",
   "execution_count": 8,
   "metadata": {},
   "outputs": [],
   "source": [
    "stopwords = list(map(lambda x: re.sub('\\'','',x), stopwords))"
   ]
  },
  {
   "cell_type": "code",
   "execution_count": 9,
   "metadata": {},
   "outputs": [],
   "source": [
    "def no_stop (text):\n",
    "    new_text = []\n",
    "    for x in text.split():\n",
    "        if x.lower() not in stopwords:\n",
    "            new_text.append(x)\n",
    "    return ' '.join(new_text)\n",
    "        "
   ]
  },
  {
   "cell_type": "code",
   "execution_count": 10,
   "metadata": {},
   "outputs": [],
   "source": [
    "contractions = { \n",
    "\"ain't\": \"am not\",\n",
    "\"aren't\": \"are not\",\n",
    "\"can't\": \"cannot\",\n",
    "\"could've\": \"could have\",\n",
    "\"couldn't\": \"could not\",\n",
    "\"couldn't've\": \"could not have\",\n",
    "\"didn't\": \"did not\",\n",
    "\"doesn't\": \"does not\",\n",
    "\"don't\": \"do not\",\n",
    "\"hadn't\": \"had not\",\n",
    "\"hasn't\": \"has not\",\n",
    "\"haven't\": \"have not\",\n",
    "\"he'd\": \"he would\",\n",
    "\"he'll\": \"he will\",\n",
    "\"he's\": \"he is\",\n",
    "\"how'd\": \"how did\",\n",
    "\"how'll\": \"how will\",\n",
    "\"how's\": \"how is\",\n",
    "\"hows\": \"how is\",   \n",
    "\"I'd\": \"I would\",\n",
    "\"I'll\": \"I will\",\n",
    "\"I'm\": \"I am\",\n",
    "\"I've\": \"I have\",\n",
    "\"isn't\": \"is not\",\n",
    "\"it'd\": \"it would\",\n",
    "\"it'll\": \"it shall / it will\",\n",
    "\"it's\": \"it is\",\n",
    "\"let's\": \"let us\",\n",
    "\"ma'am\": \"madam\",\n",
    "\"might've\": \"might have\",\n",
    "\"mightn't\": \"might not\",\n",
    "\"mightn't've\": \"might not have\",\n",
    "\"must've\": \"must have\",\n",
    "\"mustn't\": \"must not\",\n",
    "\"mustn't've\": \"must not have\",\n",
    "\"needn't\": \"need not\",\n",
    "\"needn't've\": \"need not have\",\n",
    "\"o'clock\": \"of the clock\",\n",
    "\"oughtn't\": \"ought not\",\n",
    "\"oughtn't've\": \"ought not have\",\n",
    "\"shan't\": \"shall not\",\n",
    "\"sha'n't\": \"shall not\",\n",
    "\"shan't've\": \"shall not have\",\n",
    "\"she'd\": \"she would\",\n",
    "\"she'd've\": \"she would have\",\n",
    "\"she'll\": \"she will\",\n",
    "\"she'll've\": \"she will have\",\n",
    "\"she's\": \"she is\",\n",
    "\"should've\": \"should have\",\n",
    "\"shouldn't\": \"should not\",\n",
    "\"shouldn't've\": \"should not have\",\n",
    "\"so've\": \"so have\",\n",
    "\"that'd\": \"that would\",\n",
    "\"that'd've\": \"that would have\",\n",
    "\"that's\": \"that is\",\n",
    "\"there'd\": \"there would\",\n",
    "\"there'd've\": \"there would have\",\n",
    "\"there's\": \"there is\",\n",
    "\"they'd\": \"they would\",\n",
    "\"they'd've\": \"they would have\",\n",
    "\"they'll\": \"they will\",\n",
    "\"they'll've\": \"they will have\",\n",
    "\"they're\": \"they are\",\n",
    "\"they've\": \"they have\",\n",
    "\"to've\": \"to have\",\n",
    "\"wasn't\": \"was not\",\n",
    "\"we'd\": \"we would\",\n",
    "\"we'd've\": \"we would have\",\n",
    "\"we'll\": \"we will\",\n",
    "\"we'll've\": \"we will have\",\n",
    "\"we're\": \"we are\",\n",
    "\"we've\": \"we have\",\n",
    "\"weren't\": \"were not\",\n",
    "\"what'll\": \"what will\",\n",
    "\"what're\": \"what are\",\n",
    "\"what's\": \"what is\",\n",
    "\"what've\": \"what have\",\n",
    "\"when's\": \"when is\",\n",
    "\"when've\": \"when have\",\n",
    "\"where'd\": \"where did\",\n",
    "\"where's\": \"where is\",\n",
    "\"where've\": \"where have\",\n",
    "\"who'll\": \"who will\",\n",
    "\"who's\": \"who is\",\n",
    "\"who've\": \"who have\",\n",
    "\"why's\": \"why is\",\n",
    "\"why've\": \"why have\",\n",
    "\"will've\": \"will have\",\n",
    "\"won't\": \"will not\",\n",
    "\"won't've\": \"will not have\",\n",
    "\"would've\": \"would have\",\n",
    "\"wouldn't\": \"would not\",\n",
    "\"wouldn't've\": \"would not have\",\n",
    "\"y'all\": \"you all\",\n",
    "\"y'all'd\": \"you all would\",\n",
    "\"y'all'd've\": \"you all would have\",\n",
    "\"y'all're\": \"you all are\",\n",
    "\"y'all've\": \"you all have\",\n",
    "\"you'd\": \"you would\",\n",
    "\"you'd've\": \"you would have\",\n",
    "\"you'll\": \"you will\",\n",
    "\"you're\": \"you are\",\n",
    "\"you've\": \"you have\"\n",
    "}"
   ]
  },
  {
   "cell_type": "code",
   "execution_count": 16,
   "metadata": {},
   "outputs": [],
   "source": [
    "def cleaner (test):\n",
    "    test = re.sub('\\\\n', ' ', test)\n",
    "    test = re.sub('<.*?>', ' ', test)\n",
    "    test = re.sub('&nbsp;', ' ', test)\n",
    "    test = re.sub('&[a-z]+;', '', test)\n",
    "    test = re.sub('\\.{2,}', ' ... ', test)\n",
    "    test = re.sub('!{2,}', ' ! ', test)\n",
    "    test = re.sub('\\?{2,}', ' ? ', test)\n",
    "    test = re.sub(\"’\", \"'\", test)\n",
    "    test = re.sub(\" ' \", \"'\", test)\n",
    "    test = re.sub(\"([^A-Za-z0-9'])\", r\" \\1 \", test)\n",
    "    test = re.sub('\\s+', ' ', test)\n",
    "    test = re.sub('\\. \\. \\.', '...', test)\n",
    "\n",
    "    test = re.sub(\" i \", ' I ', test)\n",
    "    test = re.sub(\" u \", ' you ', test)\n",
    "    test = re.sub(\"( im )|( Im )\", \" I'm \", test)\n",
    "    test = re.sub(\" ill \", \" I'll \", test)\n",
    "    test = re.sub(\"( ive )|( I ve )|( i ve )\", \" I've \", test)\n",
    "    test = re.sub(\"( adi )|( Aditya )|( aditya )\", \" Adi \", test)\n",
    "\n",
    "    uncontracted = []\n",
    "    for x in test.split():\n",
    "        if x.istitle():\n",
    "            if x.lower() in contractions.keys():\n",
    "                uncontracted.append(contractions[x.lower()].title())\n",
    "            else:\n",
    "                uncontracted.append(x)\n",
    "        elif x.lower() in contractions.keys():\n",
    "                uncontracted.append(contractions[x.lower()])\n",
    "        elif x in contractions.keys():\n",
    "                uncontracted.append(contractions[x])\n",
    "        else:\n",
    "            uncontracted.append(x)\n",
    "        \n",
    "        \n",
    "    return(\" \".join(uncontracted))\n"
   ]
  },
  {
   "cell_type": "code",
   "execution_count": 17,
   "metadata": {},
   "outputs": [],
   "source": [
    "from nltk.stem import WordNetLemmatizer as wnl\n",
    "lemmatizer = wnl()"
   ]
  },
  {
   "cell_type": "code",
   "execution_count": 18,
   "metadata": {},
   "outputs": [],
   "source": [
    "def nltk_tag_to_wordnet_tag(nltk_tag):\n",
    "    if nltk_tag.startswith('J'):\n",
    "        return wordnet.ADJ\n",
    "    elif nltk_tag.startswith('V'):\n",
    "        return wordnet.VERB\n",
    "    elif nltk_tag.startswith('N'):\n",
    "        return wordnet.NOUN\n",
    "    elif nltk_tag.startswith('R'):\n",
    "        return wordnet.ADV\n",
    "    else:          \n",
    "        return None\n",
    "\n",
    "def lemmatize(sentence):\n",
    "    #tokenize the sentence and find the POS tag for each token\n",
    "    nltk_tagged = nltk.pos_tag(nltk.word_tokenize(sentence))  \n",
    "    #tuple of (token, wordnet_tag)\n",
    "    wordnet_tagged = map(lambda x: (x[0], nltk_tag_to_wordnet_tag(x[1])), nltk_tagged)\n",
    "    lemmatized_sentence = []\n",
    "    for word, tag in wordnet_tagged:\n",
    "        if tag is None:\n",
    "            #if there is no available tag, append the token as is\n",
    "            lemmatized_sentence.append(word)\n",
    "        else:        \n",
    "            #else use the tag to lemmatize the token\n",
    "            lemmatized_sentence.append(lemmatizer.lemmatize(word, tag))\n",
    "    return \" \".join(lemmatized_sentence)"
   ]
  },
  {
   "cell_type": "code",
   "execution_count": 21,
   "metadata": {},
   "outputs": [],
   "source": [
    "# show('1586737092738-3fa9f1f5ffbc2dc0')"
   ]
  },
  {
   "cell_type": "code",
   "execution_count": 19,
   "metadata": {},
   "outputs": [],
   "source": [
    "# def show (ID):\n",
    "#     print(datadf.text.loc[ID])\n",
    "#     print('\\n ------------------ \\n')\n",
    "#     print(datadf.cleaned_text.loc[ID])\n",
    "#     return datadf.loc[ID].to_frame().T"
   ]
  },
  {
   "cell_type": "code",
   "execution_count": null,
   "metadata": {},
   "outputs": [],
   "source": []
  }
 ],
 "metadata": {
  "kernelspec": {
   "display_name": "Python 3",
   "language": "python",
   "name": "python3"
  },
  "language_info": {
   "codemirror_mode": {
    "name": "ipython",
    "version": 3
   },
   "file_extension": ".py",
   "mimetype": "text/x-python",
   "name": "python",
   "nbconvert_exporter": "python",
   "pygments_lexer": "ipython3",
   "version": "3.7.4"
  }
 },
 "nbformat": 4,
 "nbformat_minor": 4
}
