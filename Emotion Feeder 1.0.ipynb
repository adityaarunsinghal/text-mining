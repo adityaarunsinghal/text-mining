{
 "cells": [
  {
   "cell_type": "code",
   "execution_count": 65,
   "metadata": {},
   "outputs": [],
   "source": [
    "# import pandas as pd\n",
    "from zipfile import ZipFile\n",
    "# from PIL import Image\n",
    "from IPython.display import Image, display\n",
    "# import os\n",
    "import re\n",
    "# import json\n",
    "import pandas as pd\n",
    "# import numpy as np\n",
    "# import datetime as dt\n",
    "# import matplotlib.pyplot as plt\n",
    "# import seaborn as sns\n",
    "# import wordcloud\n",
    "# from sklearn.preprocessing import OneHotEncoder\n",
    "# import matplotlib.animation as animation\n",
    "import nltk\n",
    "# from nltk.corpus import wordnet\n",
    "# nltk.download('wordnet')\n",
    "# nltk.download('punkt')\n",
    "# nltk.download('averaged_perceptron_tagger')\n",
    "# sns.set()"
   ]
  },
  {
   "cell_type": "code",
   "execution_count": 66,
   "metadata": {
    "scrolled": true
   },
   "outputs": [
    {
     "data": {
      "text/html": [
       "<div>\n",
       "<style scoped>\n",
       "    .dataframe tbody tr th:only-of-type {\n",
       "        vertical-align: middle;\n",
       "    }\n",
       "\n",
       "    .dataframe tbody tr th {\n",
       "        vertical-align: top;\n",
       "    }\n",
       "\n",
       "    .dataframe thead th {\n",
       "        text-align: right;\n",
       "    }\n",
       "</style>\n",
       "<table border=\"1\" class=\"dataframe\">\n",
       "  <thead>\n",
       "    <tr style=\"text-align: right;\">\n",
       "      <th></th>\n",
       "      <th>text</th>\n",
       "      <th>date_modified</th>\n",
       "      <th>date_journal</th>\n",
       "      <th>address</th>\n",
       "      <th>lat</th>\n",
       "      <th>lon</th>\n",
       "      <th>posture</th>\n",
       "      <th>timezone</th>\n",
       "      <th>favourite</th>\n",
       "      <th>weather</th>\n",
       "      <th>photos</th>\n",
       "      <th>tags</th>\n",
       "      <th>no_punc</th>\n",
       "      <th>is_personal</th>\n",
       "      <th>cleaned_text</th>\n",
       "    </tr>\n",
       "    <tr>\n",
       "      <th>id</th>\n",
       "      <th></th>\n",
       "      <th></th>\n",
       "      <th></th>\n",
       "      <th></th>\n",
       "      <th></th>\n",
       "      <th></th>\n",
       "      <th></th>\n",
       "      <th></th>\n",
       "      <th></th>\n",
       "      <th></th>\n",
       "      <th></th>\n",
       "      <th></th>\n",
       "      <th></th>\n",
       "      <th></th>\n",
       "      <th></th>\n",
       "    </tr>\n",
       "  </thead>\n",
       "  <tbody>\n",
       "    <tr>\n",
       "      <th>1439137473084-3fc756cc3f8d6404</th>\n",
       "      <td>The first thing I saw ,when I entered her room...</td>\n",
       "      <td>2017-08-31 01:44:57</td>\n",
       "      <td>2015-08-09 11:24:33</td>\n",
       "      <td>NaN</td>\n",
       "      <td>1.7976931348623157e+308</td>\n",
       "      <td>1.7976931348623157e+308</td>\n",
       "      <td>0</td>\n",
       "      <td>NaN</td>\n",
       "      <td>False</td>\n",
       "      <td>{'id': -1, 'degree_c': 1.7976931348623157e+308...</td>\n",
       "      <td>[]</td>\n",
       "      <td>['personal', 'published']</td>\n",
       "      <td>The first thing I saw when I entered her room ...</td>\n",
       "      <td>1</td>\n",
       "      <td>The first thing I saw , when I entered her roo...</td>\n",
       "    </tr>\n",
       "    <tr>\n",
       "      <th>1439198245820-3fda14add91e3f20</th>\n",
       "      <td>Philosophy\\n\\n\\n\\n\\n\\n\\nIt surprises me..hw u ...</td>\n",
       "      <td>2017-08-22 22:08:05</td>\n",
       "      <td>2015-08-10 04:17:25</td>\n",
       "      <td>NaN</td>\n",
       "      <td>1.7976931348623157e+308</td>\n",
       "      <td>1.7976931348623157e+308</td>\n",
       "      <td>0</td>\n",
       "      <td>NaN</td>\n",
       "      <td>False</td>\n",
       "      <td>{'id': -1, 'degree_c': 1.7976931348623157e+308...</td>\n",
       "      <td>[]</td>\n",
       "      <td>['personal']</td>\n",
       "      <td>Philosophy It surprises me hw u so effortlessl...</td>\n",
       "      <td>1</td>\n",
       "      <td>Philosophy It surprises me ... hw you so effor...</td>\n",
       "    </tr>\n",
       "  </tbody>\n",
       "</table>\n",
       "</div>"
      ],
      "text/plain": [
       "                                                                             text  \\\n",
       "id                                                                                  \n",
       "1439137473084-3fc756cc3f8d6404  The first thing I saw ,when I entered her room...   \n",
       "1439198245820-3fda14add91e3f20  Philosophy\\n\\n\\n\\n\\n\\n\\nIt surprises me..hw u ...   \n",
       "\n",
       "                                      date_modified         date_journal  \\\n",
       "id                                                                         \n",
       "1439137473084-3fc756cc3f8d6404  2017-08-31 01:44:57  2015-08-09 11:24:33   \n",
       "1439198245820-3fda14add91e3f20  2017-08-22 22:08:05  2015-08-10 04:17:25   \n",
       "\n",
       "                               address                      lat  \\\n",
       "id                                                                \n",
       "1439137473084-3fc756cc3f8d6404     NaN  1.7976931348623157e+308   \n",
       "1439198245820-3fda14add91e3f20     NaN  1.7976931348623157e+308   \n",
       "\n",
       "                                                    lon  posture timezone  \\\n",
       "id                                                                          \n",
       "1439137473084-3fc756cc3f8d6404  1.7976931348623157e+308        0      NaN   \n",
       "1439198245820-3fda14add91e3f20  1.7976931348623157e+308        0      NaN   \n",
       "\n",
       "                                favourite  \\\n",
       "id                                          \n",
       "1439137473084-3fc756cc3f8d6404      False   \n",
       "1439198245820-3fda14add91e3f20      False   \n",
       "\n",
       "                                                                          weather  \\\n",
       "id                                                                                  \n",
       "1439137473084-3fc756cc3f8d6404  {'id': -1, 'degree_c': 1.7976931348623157e+308...   \n",
       "1439198245820-3fda14add91e3f20  {'id': -1, 'degree_c': 1.7976931348623157e+308...   \n",
       "\n",
       "                               photos                       tags  \\\n",
       "id                                                                 \n",
       "1439137473084-3fc756cc3f8d6404     []  ['personal', 'published']   \n",
       "1439198245820-3fda14add91e3f20     []               ['personal']   \n",
       "\n",
       "                                                                          no_punc  \\\n",
       "id                                                                                  \n",
       "1439137473084-3fc756cc3f8d6404  The first thing I saw when I entered her room ...   \n",
       "1439198245820-3fda14add91e3f20  Philosophy It surprises me hw u so effortlessl...   \n",
       "\n",
       "                                is_personal  \\\n",
       "id                                            \n",
       "1439137473084-3fc756cc3f8d6404            1   \n",
       "1439198245820-3fda14add91e3f20            1   \n",
       "\n",
       "                                                                     cleaned_text  \n",
       "id                                                                                 \n",
       "1439137473084-3fc756cc3f8d6404  The first thing I saw , when I entered her roo...  \n",
       "1439198245820-3fda14add91e3f20  Philosophy It surprises me ... hw you so effor...  "
      ]
     },
     "execution_count": 66,
     "metadata": {},
     "output_type": "execute_result"
    }
   ],
   "source": [
    "datadf = pd.read_csv('All Data/Raw Journey Data/Until16May2020(all jsons to csv).csv')\n",
    "datadf.rename(columns={'Unnamed: 0':'id'}, inplace=True)\n",
    "datadf.set_index('id', inplace=True)\n",
    "datadf.head(2)"
   ]
  },
  {
   "cell_type": "code",
   "execution_count": 67,
   "metadata": {},
   "outputs": [
    {
     "data": {
      "text/html": [
       "<div>\n",
       "<style scoped>\n",
       "    .dataframe tbody tr th:only-of-type {\n",
       "        vertical-align: middle;\n",
       "    }\n",
       "\n",
       "    .dataframe tbody tr th {\n",
       "        vertical-align: top;\n",
       "    }\n",
       "\n",
       "    .dataframe thead th {\n",
       "        text-align: right;\n",
       "    }\n",
       "</style>\n",
       "<table border=\"1\" class=\"dataframe\">\n",
       "  <thead>\n",
       "    <tr style=\"text-align: right;\">\n",
       "      <th></th>\n",
       "      <th>emotion</th>\n",
       "      <th>updated_text</th>\n",
       "    </tr>\n",
       "    <tr>\n",
       "      <th>id</th>\n",
       "      <th></th>\n",
       "      <th></th>\n",
       "    </tr>\n",
       "  </thead>\n",
       "  <tbody>\n",
       "    <tr>\n",
       "      <th>1439137473084-3fc756cc3f8d6404</th>\n",
       "      <td>[0]</td>\n",
       "      <td>NaN</td>\n",
       "    </tr>\n",
       "    <tr>\n",
       "      <th>1439198245820-3fda14add91e3f20</th>\n",
       "      <td>[0]</td>\n",
       "      <td>NaN</td>\n",
       "    </tr>\n",
       "    <tr>\n",
       "      <th>1439198461993-3fefd6db711e0342</th>\n",
       "      <td>[0]</td>\n",
       "      <td>NaN</td>\n",
       "    </tr>\n",
       "    <tr>\n",
       "      <th>1439575035515-3feb330512548cbd</th>\n",
       "      <td>[0]</td>\n",
       "      <td>NaN</td>\n",
       "    </tr>\n",
       "    <tr>\n",
       "      <th>1440393646546-3fdb2bc02b9f8020</th>\n",
       "      <td>[0]</td>\n",
       "      <td>NaN</td>\n",
       "    </tr>\n",
       "  </tbody>\n",
       "</table>\n",
       "</div>"
      ],
      "text/plain": [
       "                               emotion updated_text\n",
       "id                                                 \n",
       "1439137473084-3fc756cc3f8d6404     [0]          NaN\n",
       "1439198245820-3fda14add91e3f20     [0]          NaN\n",
       "1439198461993-3fefd6db711e0342     [0]          NaN\n",
       "1439575035515-3feb330512548cbd     [0]          NaN\n",
       "1440393646546-3fdb2bc02b9f8020     [0]          NaN"
      ]
     },
     "execution_count": 67,
     "metadata": {},
     "output_type": "execute_result"
    }
   ],
   "source": [
    "emotions = pd.read_csv('All Data/Raw Journey Data/EmotionsUntil16May2020.csv')\n",
    "emotions.set_index('id', inplace=True)\n",
    "emotions.head()"
   ]
  },
  {
   "cell_type": "code",
   "execution_count": 80,
   "metadata": {},
   "outputs": [],
   "source": [
    "# emotions = datadf[['posture']].rename(columns={'posture':'emotion'})\n",
    "# emotions.emotion = [[0] for i in range(len(emotions))]\n",
    "# emotions['updated_text'] = None\n",
    "# emotions.to_csv('All Data/Raw Journey Data/EmotionsUntil16May2020.csv')\n",
    "# emotions"
   ]
  },
  {
   "cell_type": "code",
   "execution_count": 71,
   "metadata": {},
   "outputs": [],
   "source": [
    "def feed (value_given, i):\n",
    "#     emotions.emotion[i]=int(value_given)\n",
    "    emotions.loc[i , 'emotion'] = [int(x) for x in re.findall('\\d', value_given)]\n",
    "    print('\\n-----------')"
   ]
  },
  {
   "cell_type": "code",
   "execution_count": 72,
   "metadata": {},
   "outputs": [],
   "source": [
    "# def take_value():\n",
    "#     while True:\n",
    "#         value_given = input(\"------ \\nEnter emotions, \\n1 = Very Sad,\\n2 = Sad\\n3 = Happy, \\n4 = Very Happy, \\n5 = Disgust\\n6 = Fear\\n7 = Anger\\n8 = Sad-Smile\\n9 = Future/emotionless/observation \\n\")\n",
    "#         try:\n",
    "#             if ((value_given in ['p', 's']) or (int(value_given)>=1 and int(value_given)<=9)):\n",
    "#                 return (value_given)\n",
    "#                 break\n",
    "#             else:\n",
    "#                 print('Error, try again')\n",
    "#         except:\n",
    "#             print('Error, try again')"
   ]
  },
  {
   "cell_type": "code",
   "execution_count": 73,
   "metadata": {},
   "outputs": [],
   "source": [
    "def take_value():\n",
    "    value_given = input(\"------ \\nEnter emotions, \\n1 = Very Sad,\\n2 = Sad\\n3 = Happy, \\n4 = Very Happy, \\n5 = Disgust\\n6 = Fear\\n7 = Anger\\n8 = Sad-Smile\\n9 = Future/emotionless/observation \\n\")\n",
    "    return(value_given)\n",
    "              "
   ]
  },
  {
   "cell_type": "code",
   "execution_count": 81,
   "metadata": {},
   "outputs": [
    {
     "name": "stdout",
     "output_type": "stream",
     "text": [
      "how many? = 0\n",
      "\n",
      "----------- \n",
      " Saved! \n",
      "\n",
      "2589 of  2589 remaining.\n"
     ]
    }
   ],
   "source": [
    "how_many = input('how many? = ')\n",
    "still_remaining = emotions[[x == [0] for x in emotions.emotion]]\n",
    "chosen = still_remaining.sample(int(how_many), replace=False)\n",
    "indices = chosen.index.values\n",
    "for i in indices:\n",
    "    for each in re.findall(r\".{47}.jpg\",datadf.photos[i]):\n",
    "        try:\n",
    "            path = 'All Data/Raw Journey Data/Until16May2020(no HQ media)/'+each\n",
    "            display(Image(path))\n",
    "        except:\n",
    "            break\n",
    "    print('\\n\\n',i,'\\n\\n',datadf.cleaned_text[i], '\\n\\n', datadf.date_journal[i], '\\n')\n",
    "    value_given = take_value()\n",
    "    if value_given=='s': #save instantly\n",
    "        break\n",
    "    elif value_given=='p': #print whole entry\n",
    "        print('\\n\\n',datadf.loc[i], '\\n')\n",
    "        value_given = take_value()\n",
    "        feed(value_given, i)\n",
    "    else:\n",
    "        feed(value_given, i)\n",
    "        \n",
    "        \n",
    "emotions.to_csv('All Data/Raw Journey Data/EmotionsUntil16May2020.csv')    \n",
    "print('\\n----------- \\n Saved! \\n')\n",
    "print(len(emotions[[x == [0] for x in emotions.emotion]]), 'of ', len(emotions), 'remaining.')"
   ]
  },
  {
   "cell_type": "code",
   "execution_count": 75,
   "metadata": {
    "scrolled": true
   },
   "outputs": [],
   "source": [
    "# emotions.emotion.value_counts()"
   ]
  },
  {
   "cell_type": "code",
   "execution_count": 9,
   "metadata": {},
   "outputs": [],
   "source": [
    "emotions.loc['1535822211378-3fee60c354fb54b0' , 'emotion'] = [4] # fixing a mistake"
   ]
  },
  {
   "cell_type": "code",
   "execution_count": null,
   "metadata": {},
   "outputs": [],
   "source": []
  },
  {
   "cell_type": "code",
   "execution_count": 10,
   "metadata": {},
   "outputs": [],
   "source": [
    "\n",
    "\n",
    "\n",
    "\n",
    "emotions.loc['1505130490476-3fe99ca23f25f368' , 'updated_text'] = r\"What an end to this story . Just like anoushka's story . This ends with you belonging to someone else . I hadn't given up before this . I still have an ongoing sunflower painting in my room . I dont want your fucking apologies . I wish you were dead . You and sourav patwardhan . I wonder if this is because you havent met me in so long . No it's not . Fuck you . This is done .\"\n",
    "\n",
    "\n"
   ]
  },
  {
   "cell_type": "code",
   "execution_count": null,
   "metadata": {},
   "outputs": [],
   "source": []
  },
  {
   "cell_type": "code",
   "execution_count": 62,
   "metadata": {},
   "outputs": [
    {
     "data": {
      "text/plain": [
       "[3, 4, 6, 7]"
      ]
     },
     "execution_count": 62,
     "metadata": {},
     "output_type": "execute_result"
    }
   ],
   "source": [
    "emotions.loc['1535822211378-3fee60c354fb54b0' , 'emotion']"
   ]
  },
  {
   "cell_type": "code",
   "execution_count": null,
   "metadata": {},
   "outputs": [],
   "source": []
  }
 ],
 "metadata": {
  "kernelspec": {
   "display_name": "Python 3",
   "language": "python",
   "name": "python3"
  },
  "language_info": {
   "codemirror_mode": {
    "name": "ipython",
    "version": 3
   },
   "file_extension": ".py",
   "mimetype": "text/x-python",
   "name": "python",
   "nbconvert_exporter": "python",
   "pygments_lexer": "ipython3",
   "version": "3.7.4"
  }
 },
 "nbformat": 4,
 "nbformat_minor": 4
}
