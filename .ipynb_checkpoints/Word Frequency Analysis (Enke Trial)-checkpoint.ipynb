{
 "cells": [
  {
   "cell_type": "code",
   "execution_count": null,
   "metadata": {},
   "outputs": [],
   "source": [
    "import pandas as pd\n",
    "import re\n",
    "import numpy as np\n",
    "import datetime as dt\n",
    "import matplotlib.pyplot as plt\n",
    "# import matplotlib as mpl\n",
    "# mpl.rcParams['xtick.labelsize'] = 14\n",
    "import seaborn as sns\n",
    "from matplotlib.pyplot import figure\n",
    "sns.set()"
   ]
  },
  {
   "cell_type": "code",
   "execution_count": null,
   "metadata": {},
   "outputs": [],
   "source": [
    "datadf = pd.read_csv('All Data/Raw Journey Data/Until16May2020(all jsons to csv).csv')\n",
    "datadf.rename(columns={'Unnamed: 0':'id'}, inplace=True)\n",
    "datadf.set_index('id', inplace=True)\n",
    "datadf.head()"
   ]
  },
  {
   "cell_type": "code",
   "execution_count": null,
   "metadata": {
    "scrolled": true
   },
   "outputs": [],
   "source": [
    "timedata = pd.read_csv('All Data/Raw Journey Data/TimeDataUntil16May2020.csv')\n",
    "timedata = timedata.set_index(timedata.columns[0])\n",
    "timedata.head()"
   ]
  },
  {
   "cell_type": "code",
   "execution_count": null,
   "metadata": {},
   "outputs": [],
   "source": [
    "drop_cols = ['text','date_modified','address','mood','favourite','weather','photos','tags']\n",
    "datadf = datadf.drop(columns = drop_cols)"
   ]
  },
  {
   "cell_type": "code",
   "execution_count": null,
   "metadata": {},
   "outputs": [],
   "source": [
    "tidy_format = pd.read_csv('All Data/Raw Journey Data/TidyFormatUntil16May2020.csv')"
   ]
  },
  {
   "cell_type": "code",
   "execution_count": null,
   "metadata": {},
   "outputs": [],
   "source": [
    "words = ['enke','nidhi','kelkar','aesthetic','sunflower','sunflowers', 'saurav', 'patwardhan']"
   ]
  },
  {
   "cell_type": "code",
   "execution_count": null,
   "metadata": {},
   "outputs": [],
   "source": [
    "tidy_format['lower'] =tidy_format['word'].str.lower()"
   ]
  },
  {
   "cell_type": "code",
   "execution_count": null,
   "metadata": {},
   "outputs": [],
   "source": [
    "tidy_format['mentioned(entry)'] = tidy_format['lower'].isin(words).astype(int)"
   ]
  },
  {
   "cell_type": "code",
   "execution_count": null,
   "metadata": {},
   "outputs": [],
   "source": [
    "tidy_format[tidy_format['mentioned(entry)']==1]"
   ]
  },
  {
   "cell_type": "code",
   "execution_count": null,
   "metadata": {},
   "outputs": [],
   "source": [
    "words_found = tidy_format.merge(timedata, on='id', how='left')[['mentioned(entry)','day_num','month_num', 'year_month']]\n",
    "words_found_days = words_found.groupby('day_num').agg(func={'mentioned(entry)':'sum', 'month_num':'first', 'year_month':'first'})\n",
    "words_found_days['mentioned(day)'] = (words_found_days['mentioned(entry)']!=0).astype(int)\n",
    "words_found_days['avg_mentions(month)'] = words_found_days['mentioned(day)']\n",
    "words_found_days"
   ]
  },
  {
   "cell_type": "code",
   "execution_count": null,
   "metadata": {},
   "outputs": [],
   "source": [
    "plt.plot(words_found_days.index, words_found_days['mentioned(day)'])"
   ]
  },
  {
   "cell_type": "code",
   "execution_count": null,
   "metadata": {},
   "outputs": [],
   "source": [
    "words_found_months = words_found_days.groupby('year_month').agg(func={'mentioned(entry)':'sum', 'month_num':'first', 'year_month':'first', 'mentioned(day)':'sum', 'avg_mentions(month)':'mean'})\n",
    "words_found_months = words_found_months.sort_values(by='month_num', ascending=True)\n",
    "words_found_months.head()"
   ]
  },
  {
   "cell_type": "code",
   "execution_count": null,
   "metadata": {},
   "outputs": [],
   "source": [
    "# plt.plot(words_found_months.index, words_found_months['found_binary'])"
   ]
  },
  {
   "cell_type": "code",
   "execution_count": null,
   "metadata": {},
   "outputs": [],
   "source": [
    "fig, ax = plt.subplots(figsize = (150,40))\n",
    "# plt.figure(figsize=(100,40))\n",
    "# plt.xlim([10, 59])\n",
    "# plt.ylim([-0.5, 10])\n",
    "ax.plot(words_found_months['mentioned(day)'][10:])\n",
    "# ax.set_xticklabels(words_found_months['year_month'], rotation=90)\n",
    "plt.yticks(fontsize=70)\n",
    "plt.xticks(fontsize=70, rotation=90)\n",
    "plt.locator_params(axis='x', nbins=20)\n",
    "plt.title(label='Number of days in a month the words were mentioned', fontsize=100)\n",
    "# plt.savefig('Figures saved from analyses/Number of Enke Mentions (16May2020).png')"
   ]
  },
  {
   "cell_type": "code",
   "execution_count": null,
   "metadata": {},
   "outputs": [],
   "source": [
    "fig, ax = plt.subplots(figsize = (150,40))\n",
    "ax.plot(words_found_months['avg_mentions(month)'][10:])\n",
    "plt.xticks(fontsize=70, rotation=90)\n",
    "plt.yticks(fontsize=70)\n",
    "plt.locator_params(axis='x', nbins=20)\n",
    "plt.title(label='Proportion of days in a month when the words were mentioned', fontsize=100)\n",
    "# plt.savefig('Figures saved from analyses/Proportion of Enke Mentions (16May2020).png')"
   ]
  },
  {
   "cell_type": "code",
   "execution_count": null,
   "metadata": {},
   "outputs": [],
   "source": []
  }
 ],
 "metadata": {
  "kernelspec": {
   "display_name": "Python 3",
   "language": "python",
   "name": "python3"
  },
  "language_info": {
   "codemirror_mode": {
    "name": "ipython",
    "version": 3
   },
   "file_extension": ".py",
   "mimetype": "text/x-python",
   "name": "python",
   "nbconvert_exporter": "python",
   "pygments_lexer": "ipython3",
   "version": "3.7.4"
  },
  "nteract": {
   "version": "0.23.1"
  }
 },
 "nbformat": 4,
 "nbformat_minor": 4
}
