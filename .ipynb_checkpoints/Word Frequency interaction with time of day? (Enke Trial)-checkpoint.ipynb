{
 "cells": [
  {
   "cell_type": "code",
   "execution_count": null,
   "metadata": {},
   "outputs": [],
   "source": [
    "import pandas as pd\n",
    "import re\n",
    "import numpy as np\n",
    "import datetime as dt\n",
    "import matplotlib.pyplot as plt\n",
    "import seaborn as sns\n",
    "from matplotlib.pyplot import figure\n",
    "plt.rc('legend',fontsize=20) \n",
    "plt.rc('legend',fontsize='medium')\n",
    "sns.set()"
   ]
  },
  {
   "cell_type": "code",
   "execution_count": null,
   "metadata": {},
   "outputs": [],
   "source": [
    "datadf = pd.read_csv('All Data/Raw Journey Data/Until16May2020(all jsons to csv).csv')\n",
    "datadf.rename(columns={'Unnamed: 0':'id'}, inplace=True)\n",
    "datadf.set_index('id', inplace=True)\n",
    "datadf = datadf[datadf['is_personal']==1] # only personal entries\n",
    "drop_cols = ['text','date_modified','address','mood','favourite','weather','photos','tags','lat','lon','timezone']\n",
    "datadf = datadf.drop(columns = drop_cols)\n"
   ]
  },
  {
   "cell_type": "code",
   "execution_count": null,
   "metadata": {
    "scrolled": true
   },
   "outputs": [],
   "source": [
    "timedata = pd.read_csv('All Data/Raw Journey Data/TimeDataUntil16May2020.csv')\n",
    "timedata = timedata.set_index(timedata.columns[0])\n",
    "timedata = timedata.loc[datadf.index.values]\n",
    "# timedata.head("
   ]
  },
  {
   "cell_type": "code",
   "execution_count": null,
   "metadata": {},
   "outputs": [],
   "source": [
    "datadf['no_punc'] = datadf['no_punc'].str.lower()\n",
    "datadf['hits'] = 0\n",
    "datadf"
   ]
  },
  {
   "cell_type": "code",
   "execution_count": null,
   "metadata": {},
   "outputs": [],
   "source": [
    "words = ['enke','nidhi','kelkar','aesthetic','sunflower','sunflowers', 'sourav', 'patwardhan']"
   ]
  },
  {
   "cell_type": "code",
   "execution_count": null,
   "metadata": {},
   "outputs": [],
   "source": [
    "def found (text, words):\n",
    "    hits = 0\n",
    "    for word in words:\n",
    "        if word in str(text):\n",
    "            hits = hits+1\n",
    "    return(hits)"
   ]
  },
  {
   "cell_type": "code",
   "execution_count": null,
   "metadata": {},
   "outputs": [],
   "source": [
    "datadf['hits'] = datadf['no_punc'].apply(lambda x: found(x,words))"
   ]
  },
  {
   "cell_type": "code",
   "execution_count": null,
   "metadata": {},
   "outputs": [],
   "source": [
    "datadf['found'] = (datadf['hits']>0).astype(int)"
   ]
  },
  {
   "cell_type": "code",
   "execution_count": null,
   "metadata": {},
   "outputs": [],
   "source": [
    "# datadf[datadf['found']==1]"
   ]
  },
  {
   "cell_type": "code",
   "execution_count": null,
   "metadata": {},
   "outputs": [],
   "source": [
    "datadf = datadf.merge(timedata, on='id', how='inner')[['no_punc','day_num','month_num','year_month','minute_of_day','found','hour']]"
   ]
  },
  {
   "cell_type": "code",
   "execution_count": null,
   "metadata": {},
   "outputs": [],
   "source": [
    "plt.figure(figsize=(100,10))\n",
    "plt.xticks(fontsize=70, rotation=90)\n",
    "plt.yticks(fontsize=70)\n",
    "# plt.locator_params(axis='x', nbins=20)\n",
    "# plt.title(label='Proportion of entries in a month where the words were mentioned', fontsize=100)\n",
    "sns.distplot(datadf['minute_of_day'].values, rug=True, bins=24)"
   ]
  },
  {
   "cell_type": "code",
   "execution_count": null,
   "metadata": {
    "scrolled": true
   },
   "outputs": [],
   "source": [
    "plt.figure(figsize=(100,10))\n",
    "plt.xticks(fontsize=70, rotation=90)\n",
    "plt.yticks(fontsize=70)\n",
    "sns.distplot(datadf[datadf['found']==0]['minute_of_day'].values, rug=True, bins=24, color='blue', label='Entries Without word')\n",
    "sns.distplot( datadf[datadf['found']==1]['minute_of_day'].values, color=\"red\", label=\"Entries With Word\",rug=True, bins=24)\n",
    "plt.legend()"
   ]
  },
  {
   "cell_type": "code",
   "execution_count": null,
   "metadata": {
    "scrolled": true
   },
   "outputs": [],
   "source": [
    "plt.figure(figsize=(100,10))\n",
    "plt.xticks(fontsize=70, rotation=0)\n",
    "plt.yticks(fontsize=30)\n",
    "sns.distplot(datadf[datadf['found']==0]['minute_of_day'].values, bins=100, color='blue', label='Entries Without word',hist=False)\n",
    "sns.distplot( datadf[datadf['found']==1]['minute_of_day'].values, color=\"red\", label=\"Entries With Word\", bins=100,hist=False)\n",
    "plt.legend(fontsize='x-large', title_fontsize='70')"
   ]
  },
  {
   "cell_type": "code",
   "execution_count": null,
   "metadata": {},
   "outputs": [],
   "source": [
    "plt.figure(figsize=(100,10))\n",
    "plt.xticks(fontsize=70, rotation=0)\n",
    "plt.yticks(fontsize=30)\n",
    "plt.xlabel('Minute of the Day')\n",
    "sns.distplot(datadf[datadf['found']==0]['minute_of_day'].values, bins=100, color='blue', label='Entries Without word')\n",
    "sns.distplot( datadf[datadf['found']==1]['minute_of_day'].values, color=\"red\", label=\"Entries With Word\", bins=100)\n",
    "plt.legend(fontsize='x-large', title_fontsize='70')"
   ]
  },
  {
   "cell_type": "code",
   "execution_count": null,
   "metadata": {},
   "outputs": [],
   "source": [
    "plt.figure(figsize=(100,10))\n",
    "plt.xticks(fontsize=70, rotation=0)\n",
    "plt.yticks(fontsize=30)\n",
    "plt.xlabel('Hour of the Day', fontsize=70)\n",
    "sns.distplot(datadf['hour'], color='blue', label='Entries Without word',hist=False)\n",
    "sns.distplot( datadf[datadf['found']==1]['hour'].values, color=\"red\", label=\"Entries With Word\",hist=False)\n",
    "plt.legend(fontsize='x-large', title_fontsize='70')"
   ]
  },
  {
   "cell_type": "code",
   "execution_count": null,
   "metadata": {},
   "outputs": [],
   "source": [
    "# how can I tell if the time of entries is significantly different?"
   ]
  }
 ],
 "metadata": {
  "kernelspec": {
   "display_name": "Python 3",
   "language": "python",
   "name": "python3"
  },
  "language_info": {
   "codemirror_mode": {
    "name": "ipython",
    "version": 3
   },
   "file_extension": ".py",
   "mimetype": "text/x-python",
   "name": "python",
   "nbconvert_exporter": "python",
   "pygments_lexer": "ipython3",
   "version": "3.7.4"
  },
  "nteract": {
   "version": "0.23.1"
  }
 },
 "nbformat": 4,
 "nbformat_minor": 4
}
