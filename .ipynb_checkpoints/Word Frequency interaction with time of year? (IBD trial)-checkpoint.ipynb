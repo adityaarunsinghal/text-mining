{
 "cells": [
  {
   "cell_type": "code",
   "execution_count": null,
   "metadata": {},
   "outputs": [],
   "source": [
    "import pandas as pd\n",
    "import re\n",
    "import numpy as np\n",
    "import datetime as dt\n",
    "import matplotlib.pyplot as plt\n",
    "import seaborn as sns\n",
    "from matplotlib.pyplot import figure\n",
    "sns.set()"
   ]
  },
  {
   "cell_type": "code",
   "execution_count": null,
   "metadata": {},
   "outputs": [],
   "source": [
    "datadf = pd.read_csv('All Data/Raw Journey Data/Until16May2020(all jsons to csv).csv')\n",
    "datadf.rename(columns={'Unnamed: 0':'id'}, inplace=True)\n",
    "datadf.set_index('id', inplace=True)\n",
    "datadf = datadf[datadf['is_personal']==1]\n",
    "# datadf.head()"
   ]
  },
  {
   "cell_type": "code",
   "execution_count": null,
   "metadata": {
    "scrolled": true
   },
   "outputs": [],
   "source": [
    "timedata = pd.read_csv('All Data/Raw Journey Data/TimeDataUntil16May2020.csv')\n",
    "timedata = timedata.set_index(timedata.columns[0])\n",
    "timedata = timedata.loc[datadf.index] # only personal entries\n",
    "# timedata.head()"
   ]
  },
  {
   "cell_type": "code",
   "execution_count": null,
   "metadata": {},
   "outputs": [],
   "source": [
    "drop_cols = ['text','date_modified','address','mood','favourite','weather','photos']\n",
    "datadf = datadf.drop(columns = drop_cols)"
   ]
  },
  {
   "cell_type": "code",
   "execution_count": null,
   "metadata": {},
   "outputs": [],
   "source": [
    "tidy_format = pd.read_csv('All Data/Raw Journey Data/TidyFormatUntil16May2020.csv')"
   ]
  },
  {
   "cell_type": "code",
   "execution_count": null,
   "metadata": {},
   "outputs": [],
   "source": [
    "words = ['ibd','dramebaaz','theatre','theater','acting','actor']"
   ]
  },
  {
   "cell_type": "code",
   "execution_count": null,
   "metadata": {},
   "outputs": [],
   "source": [
    "tidy_format['mentioned(entry)'] = tidy_format['lower'].isin(words).astype(int)"
   ]
  },
  {
   "cell_type": "code",
   "execution_count": null,
   "metadata": {},
   "outputs": [],
   "source": [
    "tidy_format[tidy_format['mentioned(entry)']==1].id"
   ]
  },
  {
   "cell_type": "code",
   "execution_count": null,
   "metadata": {},
   "outputs": [],
   "source": [
    "tidy_format"
   ]
  },
  {
   "cell_type": "code",
   "execution_count": null,
   "metadata": {
    "scrolled": true
   },
   "outputs": [],
   "source": [
    "words_found = tidy_format.merge(timedata, on='id', how='right')[['mentioned(entry)','day_num','month_num', 'year_month','month']]\n",
    "words_found_days = words_found.groupby('day_num').agg(func={'mentioned(entry)':'sum', 'month_num':'first', 'year_month':'first', 'month':'first'})\n",
    "words_found_days['mentioned(day)'] = (words_found_days['mentioned(entry)']!=0).astype(int)\n",
    "words_found_days"
   ]
  },
  {
   "cell_type": "code",
   "execution_count": null,
   "metadata": {},
   "outputs": [],
   "source": [
    "words_found_monthly = words_found_days.groupby('month').mean()[['mentioned(entry)']]\n",
    "words_found_monthly "
   ]
  },
  {
   "cell_type": "code",
   "execution_count": null,
   "metadata": {},
   "outputs": [],
   "source": [
    "plt.figure(figsize=(30,10))\n",
    "sns.scatterplot(words_found_monthly.index,words_found_monthly['mentioned(entry)'], s=100)\n",
    "plt.xticks(fontsize=20, rotation=0)\n",
    "plt.yticks(fontsize=20)\n",
    "plt.locator_params(axis='x', nbins=20)\n",
    "\n",
    "# how do I tell if any month has significantly more mentions? I have data for many years, is just summing them good enough?"
   ]
  },
  {
   "cell_type": "code",
   "execution_count": null,
   "metadata": {},
   "outputs": [],
   "source": []
  }
 ],
 "metadata": {
  "kernelspec": {
   "display_name": "Python 3",
   "language": "python",
   "name": "python3"
  },
  "language_info": {
   "codemirror_mode": {
    "name": "ipython",
    "version": 3
   },
   "file_extension": ".py",
   "mimetype": "text/x-python",
   "name": "python",
   "nbconvert_exporter": "python",
   "pygments_lexer": "ipython3",
   "version": "3.7.4"
  },
  "nteract": {
   "version": "0.23.1"
  }
 },
 "nbformat": 4,
 "nbformat_minor": 4
}
