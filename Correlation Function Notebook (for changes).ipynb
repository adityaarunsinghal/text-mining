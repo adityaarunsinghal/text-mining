{
 "cells": [
  {
   "cell_type": "code",
   "execution_count": 57,
   "metadata": {},
   "outputs": [],
   "source": [
    "import numpy as np\n",
    "import pandas as pd\n",
    "import seaborn as sns\n",
    "import matplotlib.pyplot as plt\n",
    "import itertools\n",
    "from scipy import stats as ss"
   ]
  },
  {
   "cell_type": "code",
   "execution_count": 58,
   "metadata": {
    "scrolled": true
   },
   "outputs": [],
   "source": [
    "test = pd.read_csv('/Users/aditya/Google Drive (as11919@nyu.edu)/Syncing with Mac/Babel Analysis/gevme_selected_exports/merchandises.csv')"
   ]
  },
  {
   "cell_type": "code",
   "execution_count": 59,
   "metadata": {},
   "outputs": [],
   "source": [
    "def cramers(x,y):\n",
    "    \"\"\"\n",
    "    Function to calculate Cramers Correlation\n",
    "    \n",
    "    Input: column_1, column_2\n",
    "    Output: correlation r (float)\n",
    "    \"\"\"\n",
    "        confusion_matrix = pd.crosstab(x,y)\n",
    "        chi2 = ss.chi2_contingency(confusion_matrix)[0]\n",
    "        n = confusion_matrix.sum().sum()\n",
    "        phi2 = chi2/n\n",
    "        r,k = confusion_matrix.shape\n",
    "        phi2corr = max(0, phi2-((k-1)*(r-1))/(n-1))\n",
    "        rcorr = r-((r-1)**2)/(n-1)\n",
    "        kcorr = k-((k-1)**2)/(n-1)\n",
    "        corr = np.sqrt(phi2corr/min((kcorr-1),(rcorr-1)))\n",
    "        \n",
    "        return corr"
   ]
  },
  {
   "cell_type": "code",
   "execution_count": 60,
   "metadata": {},
   "outputs": [],
   "source": [
    "def correlation(x, y, method='pearson'): #option for type of correlation added \n",
    "    \n",
    "    \"\"\"\n",
    "    Function to calculate correlation in given method\n",
    "    \n",
    "    Input: column_1, column_2, method = ['pearson','spearman','kendall','cramers']\n",
    "    Output: correlation r (float)\n",
    "    \"\"\"\n",
    "    try:\n",
    "        if (method == 'pearson'): \n",
    "            corr, _ = ss.pearsonr(x,y)\n",
    "        elif (method == 'spearman'): \n",
    "            corr, _ = ss.spearmanr(x,y)\n",
    "        elif (method == 'kendall'): \n",
    "            corr, _ = ss.kendalltau(x,y)\n",
    "        elif (method == 'cramers'): \n",
    "            corr = cramers(x,y)\n",
    "    except:\n",
    "        corr = cramers(x,y)\n",
    "        \n",
    "    return corr"
   ]
  },
  {
   "cell_type": "code",
   "execution_count": 67,
   "metadata": {},
   "outputs": [],
   "source": [
    "def make_corr_dict(df, method='pearson'):\n",
    "    \n",
    "    \"\"\"\n",
    "    Function to make dictionaries of all column combinations and correlations\n",
    "    \n",
    "    Input: dataframe, method = ['pearson','spearman','kendall','cramers']\n",
    "    Output: (correlation dictionary : singles, correlation dictionary : mirrored), Prints (Unused columns number and names)\n",
    "    \"\"\"\n",
    "    \n",
    "    variables = dict(df.dtypes)\n",
    "    for_corr = df[list(col for col in df.columns if (len(set(df[col]))!=len(df[col])) & df[col].notna().any())].copy()\n",
    "    for_corr.fillna(0, inplace = True)\n",
    "    col_combinations = list(itertools.combinations(for_corr.columns,2))\n",
    "    corr_dict = dict(((x,y),correlation(for_corr[x],for_corr[y], method)) for x,y in col_combinations)\n",
    "    mirrors = dict(((b,a),(c)) for ((a,b),(c)) in corr_dict.items())\n",
    "    corr_dict_mirror = corr_dict.copy()\n",
    "    corr_dict_mirror.update(mirrors)\n",
    "    \n",
    "    print(\"Used Columns : \", len(for_corr.columns))\n",
    "    print(\"Unused Columns : \", len(df.columns)-len(for_corr.columns), \"\\nUnused Col Names: \", np.setdiff1d(df.columns,for_corr.columns))\n",
    "    \n",
    "    return(corr_dict, corr_dict_mirror)"
   ]
  },
  {
   "cell_type": "code",
   "execution_count": 62,
   "metadata": {},
   "outputs": [],
   "source": [
    "def corr_table(corr_dict_mirror):\n",
    "    \n",
    "    \"\"\"\n",
    "    Function to visualize all correlations\n",
    "    \n",
    "    Input: mirrored dictionary of correlations\n",
    "    Output: Prints (heatmap)\n",
    "    \"\"\"\n",
    "    \n",
    "    corr_table = pd.DataFrame(corr_dict_mirror, index=[0]).T.reset_index(level=[0,1]).pivot(index='level_0', columns='level_1')\n",
    "    corr_table.columns = corr_table.columns.droplevel(0)\n",
    "\n",
    "    plt.figure(figsize=(10,10))\n",
    "    sns.heatmap(corr_table)"
   ]
  },
  {
   "cell_type": "code",
   "execution_count": 63,
   "metadata": {},
   "outputs": [],
   "source": [
    "def significance(corr_dict, min_value, max_value):   \n",
    "    \n",
    "    \"\"\"\n",
    "    Function to print all significant correlations between columns\n",
    "    \n",
    "    Input: Dictionary of Correlations: Singles, minimum value of correlational significance, maximum value of correlational significance\n",
    "    Output: List of all significant column combinations\n",
    "    \"\"\"\n",
    "    \n",
    "    large_corr = pd.DataFrame(range(0,len(corr_dict)),corr_dict).reset_index(level=[0,1])\n",
    "    large_corr = large_corr[(large_corr[0]>max_value)| (large_corr[0]<min_value)]\n",
    "    print(large_corr.to_string(), \"\\n\\n\")"
   ]
  },
  {
   "cell_type": "code",
   "execution_count": 75,
   "metadata": {},
   "outputs": [
    {
     "name": "stdout",
     "output_type": "stream",
     "text": [
      "Used Columns :  17\n",
      "Unused Columns :  1 \n",
      "Unused Col Names:  ['id']\n"
     ]
    }
   ],
   "source": [
    "corr_dict, corr_dict_mirror = make_corr_dict(test, 'cramers')"
   ]
  },
  {
   "cell_type": "code",
   "execution_count": 76,
   "metadata": {},
   "outputs": [
    {
     "name": "stdout",
     "output_type": "stream",
     "text": [
      "          level_0       level_1    0\n",
      "1        event_id      formtype    1\n",
      "2        event_id     fieldname    2\n",
      "3        event_id     fieldtype    3\n",
      "4        event_id   field_index    4\n",
      "5        event_id         label    5\n",
      "6        event_id     choice_id    6\n",
      "7        event_id  choice_index    7\n",
      "8        event_id  choice_value    8\n",
      "9        event_id         price    9\n",
      "10       event_id           qty   10\n",
      "11       event_id        status   11\n",
      "12       event_id       created   12\n",
      "13       event_id    created_by   13\n",
      "14       event_id      modified   14\n",
      "15       event_id   modified_by   15\n",
      "16           type      formtype   16\n",
      "17           type     fieldname   17\n",
      "18           type     fieldtype   18\n",
      "19           type   field_index   19\n",
      "20           type         label   20\n",
      "21           type     choice_id   21\n",
      "22           type  choice_index   22\n",
      "23           type  choice_value   23\n",
      "24           type         price   24\n",
      "25           type           qty   25\n",
      "26           type        status   26\n",
      "27           type       created   27\n",
      "28           type    created_by   28\n",
      "29           type      modified   29\n",
      "30           type   modified_by   30\n",
      "31       formtype     fieldname   31\n",
      "32       formtype     fieldtype   32\n",
      "33       formtype   field_index   33\n",
      "34       formtype         label   34\n",
      "35       formtype     choice_id   35\n",
      "36       formtype  choice_index   36\n",
      "37       formtype  choice_value   37\n",
      "38       formtype         price   38\n",
      "39       formtype           qty   39\n",
      "40       formtype        status   40\n",
      "41       formtype       created   41\n",
      "42       formtype    created_by   42\n",
      "43       formtype      modified   43\n",
      "44       formtype   modified_by   44\n",
      "45      fieldname     fieldtype   45\n",
      "46      fieldname   field_index   46\n",
      "47      fieldname         label   47\n",
      "48      fieldname     choice_id   48\n",
      "49      fieldname  choice_index   49\n",
      "50      fieldname  choice_value   50\n",
      "51      fieldname         price   51\n",
      "52      fieldname           qty   52\n",
      "53      fieldname        status   53\n",
      "54      fieldname       created   54\n",
      "55      fieldname    created_by   55\n",
      "56      fieldname      modified   56\n",
      "57      fieldname   modified_by   57\n",
      "58      fieldtype   field_index   58\n",
      "59      fieldtype         label   59\n",
      "60      fieldtype     choice_id   60\n",
      "61      fieldtype  choice_index   61\n",
      "62      fieldtype  choice_value   62\n",
      "63      fieldtype         price   63\n",
      "64      fieldtype           qty   64\n",
      "65      fieldtype        status   65\n",
      "66      fieldtype       created   66\n",
      "67      fieldtype    created_by   67\n",
      "68      fieldtype      modified   68\n",
      "69      fieldtype   modified_by   69\n",
      "70    field_index         label   70\n",
      "71    field_index     choice_id   71\n",
      "72    field_index  choice_index   72\n",
      "73    field_index  choice_value   73\n",
      "74    field_index         price   74\n",
      "75    field_index           qty   75\n",
      "76    field_index        status   76\n",
      "77    field_index       created   77\n",
      "78    field_index    created_by   78\n",
      "79    field_index      modified   79\n",
      "80    field_index   modified_by   80\n",
      "81          label     choice_id   81\n",
      "82          label  choice_index   82\n",
      "83          label  choice_value   83\n",
      "84          label         price   84\n",
      "85          label           qty   85\n",
      "86          label        status   86\n",
      "87          label       created   87\n",
      "88          label    created_by   88\n",
      "89          label      modified   89\n",
      "90          label   modified_by   90\n",
      "91      choice_id  choice_index   91\n",
      "92      choice_id  choice_value   92\n",
      "93      choice_id         price   93\n",
      "94      choice_id           qty   94\n",
      "95      choice_id        status   95\n",
      "96      choice_id       created   96\n",
      "97      choice_id    created_by   97\n",
      "98      choice_id      modified   98\n",
      "99      choice_id   modified_by   99\n",
      "100  choice_index  choice_value  100\n",
      "101  choice_index         price  101\n",
      "102  choice_index           qty  102\n",
      "103  choice_index        status  103\n",
      "104  choice_index       created  104\n",
      "105  choice_index    created_by  105\n",
      "106  choice_index      modified  106\n",
      "107  choice_index   modified_by  107\n",
      "108  choice_value         price  108\n",
      "109  choice_value           qty  109\n",
      "110  choice_value        status  110\n",
      "111  choice_value       created  111\n",
      "112  choice_value    created_by  112\n",
      "113  choice_value      modified  113\n",
      "114  choice_value   modified_by  114\n",
      "115         price           qty  115\n",
      "116         price        status  116\n",
      "117         price       created  117\n",
      "118         price    created_by  118\n",
      "119         price      modified  119\n",
      "120         price   modified_by  120\n",
      "121           qty        status  121\n",
      "122           qty       created  122\n",
      "123           qty    created_by  123\n",
      "124           qty      modified  124\n",
      "125           qty   modified_by  125\n",
      "126        status       created  126\n",
      "127        status    created_by  127\n",
      "128        status      modified  128\n",
      "129        status   modified_by  129\n",
      "130       created    created_by  130\n",
      "131       created      modified  131\n",
      "132       created   modified_by  132\n",
      "133    created_by      modified  133\n",
      "134    created_by   modified_by  134\n",
      "135      modified   modified_by  135 \n",
      "\n",
      "\n"
     ]
    }
   ],
   "source": [
    "significance(corr_dict)"
   ]
  },
  {
   "cell_type": "code",
   "execution_count": 77,
   "metadata": {},
   "outputs": [
    {
     "data": {
      "image/png": "[encoded data removed]",
      "text/plain": [
       "<Figure size 720x720 with 2 Axes>"
      ]
     },
     "metadata": {
      "needs_background": "light"
     },
     "output_type": "display_data"
    }
   ],
   "source": [
    "corr_table(corr_dict_mirror)"
   ]
  },
  {
   "cell_type": "code",
   "execution_count": null,
   "metadata": {},
   "outputs": [],
   "source": []
  }
 ],
 "metadata": {
  "kernelspec": {
   "display_name": "Python 3",
   "language": "python",
   "name": "python3"
  },
  "language_info": {
   "codemirror_mode": {
    "name": "ipython",
    "version": 3
   },
   "file_extension": ".py",
   "mimetype": "text/x-python",
   "name": "python",
   "nbconvert_exporter": "python",
   "pygments_lexer": "ipython3",
   "version": "3.7.4"
  }
 },
 "nbformat": 4,
 "nbformat_minor": 2
}
